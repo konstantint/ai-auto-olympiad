{
  "nbformat": 4,
  "nbformat_minor": 0,
  "metadata": {
    "colab": {
      "provenance": [],
      "toc_visible": true,
      "authorship_tag": "ABX9TyM4/1S+FEbcSEHYWDxMPJrO",
      "include_colab_link": true
    },
    "kernelspec": {
      "name": "python3",
      "display_name": "Python 3"
    },
    "language_info": {
      "name": "python"
    },
    "widgets": {
      "application/vnd.jupyter.widget-state+json": {
        "e68abb54eb704650bbf5cb1aca875cee": {
          "model_module": "@jupyter-widgets/controls",
          "model_name": "TextareaModel",
          "model_module_version": "1.5.0",
          "state": {
            "_dom_classes": [],
            "_model_module": "@jupyter-widgets/controls",
            "_model_module_version": "1.5.0",
            "_model_name": "TextareaModel",
            "_view_count": null,
            "_view_module": "@jupyter-widgets/controls",
            "_view_module_version": "1.5.0",
            "_view_name": "TextareaView",
            "continuous_update": true,
            "description": "Prompt:",
            "description_tooltip": null,
            "disabled": true,
            "layout": "IPY_MODEL_343dd27d04864ac4b8091960f757249a",
            "placeholder": "​",
            "rows": null,
            "style": "IPY_MODEL_d37180cbe5674d7b8c6a93e2360abf52",
            "value": "You are an experienced author of informatics olympiad problems.\n\nYour task is to come up with a perfect warm-up programming task for the Baltics Olympiad in Informatics.\nInformatics olympiad warm-up problems must have the following properties:\n  - Their statement reads like a real-life situation or a story where some character needs to solve some\n    kind of a problem they are facing.\n  - The solution to the problem involves the use of algorithmic coding. Participants will write a program\n    in Python that must read the input data via stdin and output the result via stdout.\n  - The participants usually need to come up with a clever combination of one or more classical\n    algorithms in order to solve the problem.\n  - The problem must allow a range of solutions using various algorithmic techniques, with different\n    algorithmic complexities (e.g. a brute force solution might be O(n^3) while a smart use of dynamic programming\n    could allow a linear solution, or the like).\n  - The optimal solution to the problem could be found, implemented and tested by an olympiad participant (who\n    is experienced in competitive programming) within about 30 minutes.\n  - A Python solution of less than 15 lines of code must exist.\n  - The problem must be accompanied by a number of tests, where each test consists of a text file with problem input data\n    and a text file with correct output.\n\nYou are trying to develop a new olympiad problem. Please, proceed step by step as follows:\n\n# Step 1.\n\nList the most common algorithms or algorithmic techniques that are usually involved in informatics olympiad problems.\n\n# Step 2.\n\nUsing the list of algorithms produced in Step 1, come up with five potential problems which require a combination of two or three\nalgorithmics techniques listed in Step 1 to be solved.\n\n# Step 3.\n\nFor each of the problems you produced in Step 2, verify that it indeed requires a clever combination of algorithmic techniques to be solved\nand that it can be solved using a range of approaches with different solutions having different algorithmic complexities.\nRemove problems that do not fit these criteria.\n\n# Step 4.\n\nWrite the optimal solution for each of the problems remaining after Step 3 in Python.\nLeave only those who can be solved in at most 15 lines of code.\n\n# Step 5.\n\nCome up with a potential storyline for each of the problems remaining after step 4. Assess the interestingness of the storyline\non a scale from 1 (boring) to 5 (exciting).\n\nLeave only the problems that scored at least 4.\n\n# Step 6.\n\nFinally, pick one of the problems from step 5 and:\n\n  - List what are the possible algorithmic solutions with possible algorithmic complexities.\n    For each such algorithmic complexity, create a test case (i.e. a pair of input and output files)\n    that could be solved using a Python solution with such algorithmic complexity within 0.1 seconds,\n    but would not be solvable by code that has worse complexity.\n\n  - List all the tricky corner cases the problem may have and for each corner case create a test case that would fail\n    unless the solution code takes that corner case into account.\n\n# Step 7.\n\nOutput the produced problem in the following format:\n\n<problem>\n<statement>\n.. problem statement in Markdown format ...\n</statement>\n<solutions>\n  <solution complexity=\"linear/quadratic/...\">\n    ... solution in Python ...\n  </solution>\n  <solution ...>\n    ... solutions for other complexities ...\n  </solution>\n</solutions>\n<tests>\n  <test comment=\"..explanation of the test case\">\n    <input>\n      .. input text data ...\n    </input>\n    <output>\n    .. expected output text data...\n    </output>\n  </test>\n  ... other tests as required\n</tests>\n"
          }
        },
        "343dd27d04864ac4b8091960f757249a": {
          "model_module": "@jupyter-widgets/base",
          "model_name": "LayoutModel",
          "model_module_version": "1.2.0",
          "state": {
            "_model_module": "@jupyter-widgets/base",
            "_model_module_version": "1.2.0",
            "_model_name": "LayoutModel",
            "_view_count": null,
            "_view_module": "@jupyter-widgets/base",
            "_view_module_version": "1.2.0",
            "_view_name": "LayoutView",
            "align_content": null,
            "align_items": null,
            "align_self": null,
            "border": null,
            "bottom": null,
            "display": null,
            "flex": null,
            "flex_flow": null,
            "grid_area": null,
            "grid_auto_columns": null,
            "grid_auto_flow": null,
            "grid_auto_rows": null,
            "grid_column": null,
            "grid_gap": null,
            "grid_row": null,
            "grid_template_areas": null,
            "grid_template_columns": null,
            "grid_template_rows": null,
            "height": "800px",
            "justify_content": null,
            "justify_items": null,
            "left": null,
            "margin": null,
            "max_height": null,
            "max_width": null,
            "min_height": null,
            "min_width": null,
            "object_fit": null,
            "object_position": null,
            "order": null,
            "overflow": null,
            "overflow_x": null,
            "overflow_y": null,
            "padding": null,
            "right": null,
            "top": null,
            "visibility": null,
            "width": "auto"
          }
        },
        "d37180cbe5674d7b8c6a93e2360abf52": {
          "model_module": "@jupyter-widgets/controls",
          "model_name": "DescriptionStyleModel",
          "model_module_version": "1.5.0",
          "state": {
            "_model_module": "@jupyter-widgets/controls",
            "_model_module_version": "1.5.0",
            "_model_name": "DescriptionStyleModel",
            "_view_count": null,
            "_view_module": "@jupyter-widgets/base",
            "_view_module_version": "1.2.0",
            "_view_name": "StyleView",
            "description_width": "initial"
          }
        },
        "c39159dc8eb94577a9e66263bacfd3d0": {
          "model_module": "@jupyter-widgets/controls",
          "model_name": "TextareaModel",
          "model_module_version": "1.5.0",
          "state": {
            "_dom_classes": [],
            "_model_module": "@jupyter-widgets/controls",
            "_model_module_version": "1.5.0",
            "_model_name": "TextareaModel",
            "_view_count": null,
            "_view_module": "@jupyter-widgets/controls",
            "_view_module_version": "1.5.0",
            "_view_name": "TextareaView",
            "continuous_update": true,
            "description": "Prompt:",
            "description_tooltip": null,
            "disabled": false,
            "layout": "IPY_MODEL_a03d988bc5bf4048a862018b78396e7d",
            "placeholder": "​",
            "rows": null,
            "style": "IPY_MODEL_246de4b8ce0e4ab58a770c076ca49fe4",
            "value": "You are a world-class competitive programming sportsman.\n\nYou will be given the problem statement for an olympiad problem and will need to\ncome up with a Python program that solves this problem. Your program will\nhave to read input data from stdin and write the answer to stdout.\n\nPlease, proceed step by step:\n\nStep 1.\nAnalyze the provided problem, and propose an algorithmic approach for solving it.\nAssess the algorithmic time and space complexity of your solution.\n\nStep 2.\nWrite the Python code for your solution.\n\nStep 3.\nMake sure your code covers all corner cases. If it doesn't, fix it.\n\nStep 4.\nOutput the Python code for your solution between the <solution></solution> tags.\nMake sure your code is well commented and clear.\n\nIf your code fails to execute, you may have to fix it until it works well\nin follow-up requests.\n"
          }
        },
        "a03d988bc5bf4048a862018b78396e7d": {
          "model_module": "@jupyter-widgets/base",
          "model_name": "LayoutModel",
          "model_module_version": "1.2.0",
          "state": {
            "_model_module": "@jupyter-widgets/base",
            "_model_module_version": "1.2.0",
            "_model_name": "LayoutModel",
            "_view_count": null,
            "_view_module": "@jupyter-widgets/base",
            "_view_module_version": "1.2.0",
            "_view_name": "LayoutView",
            "align_content": null,
            "align_items": null,
            "align_self": null,
            "border": null,
            "bottom": null,
            "display": null,
            "flex": null,
            "flex_flow": null,
            "grid_area": null,
            "grid_auto_columns": null,
            "grid_auto_flow": null,
            "grid_auto_rows": null,
            "grid_column": null,
            "grid_gap": null,
            "grid_row": null,
            "grid_template_areas": null,
            "grid_template_columns": null,
            "grid_template_rows": null,
            "height": "400px",
            "justify_content": null,
            "justify_items": null,
            "left": null,
            "margin": null,
            "max_height": null,
            "max_width": null,
            "min_height": null,
            "min_width": null,
            "object_fit": null,
            "object_position": null,
            "order": null,
            "overflow": null,
            "overflow_x": null,
            "overflow_y": null,
            "padding": null,
            "right": null,
            "top": null,
            "visibility": null,
            "width": "auto"
          }
        },
        "246de4b8ce0e4ab58a770c076ca49fe4": {
          "model_module": "@jupyter-widgets/controls",
          "model_name": "DescriptionStyleModel",
          "model_module_version": "1.5.0",
          "state": {
            "_model_module": "@jupyter-widgets/controls",
            "_model_module_version": "1.5.0",
            "_model_name": "DescriptionStyleModel",
            "_view_count": null,
            "_view_module": "@jupyter-widgets/base",
            "_view_module_version": "1.2.0",
            "_view_name": "StyleView",
            "description_width": "initial"
          }
        }
      }
    }
  },
  "cells": [
    {
      "cell_type": "markdown",
      "metadata": {
        "id": "view-in-github",
        "colab_type": "text"
      },
      "source": [
        "<a href=\"https://colab.research.google.com/github/konstantint/ai-auto-olympiad/blob/main/informatics/15liners/simple_dna_segments.ipynb\" target=\"_parent\"><img src=\"https://colab.research.google.com/assets/colab-badge.svg\" alt=\"Open In Colab\"/></a>"
      ]
    },
    {
      "cell_type": "markdown",
      "source": [
        "AI plays informatics olympiad with itself"
      ],
      "metadata": {
        "id": "zmJTXjIbuDV_"
      }
    },
    {
      "cell_type": "markdown",
      "source": [
        "# Initialization boilerplate"
      ],
      "metadata": {
        "id": "UoIHCN2KuJxN"
      }
    },
    {
      "cell_type": "code",
      "execution_count": null,
      "metadata": {
        "id": "Szwy15z6WCAB"
      },
      "outputs": [],
      "source": [
        "!pip install -q -U google-generativeai"
      ]
    },
    {
      "cell_type": "code",
      "source": [
        "#@title Imports & api key loading\n",
        "import google.generativeai as genai\n",
        "import os\n",
        "from google.colab import userdata\n",
        "import ipywidgets as widgets # Import ipywidgets\n",
        "from IPython.display import display # Import display to show widgets\n",
        "\n",
        "# --- Configuration ---\n",
        "\n",
        "# Fetch the API key from Colab secrets\n",
        "try:\n",
        "    api_key = userdata.get('GOOGLE_API_KEY')\n",
        "    if not api_key:\n",
        "        raise ValueError(\"API key not found. Please add it to Colab secrets under the name 'GOOGLE_API_KEY'.\")\n",
        "    genai.configure(api_key=api_key)\n",
        "except Exception as e:\n",
        "    print(f\"Error configuring Gemini API: {e}\")\n",
        "    # You might want to exit or handle this error appropriately\n",
        "    exit()\n"
      ],
      "metadata": {
        "cellView": "form",
        "id": "Hl_6Th-4WvAV"
      },
      "execution_count": null,
      "outputs": []
    },
    {
      "cell_type": "markdown",
      "source": [
        "# Part 1: AI creates an olympiad task\n",
        "\n",
        "First, the olympiad task author comes up with an olympiad task along with a set of tests for it."
      ],
      "metadata": {
        "id": "qmGcVZw8uPwQ"
      }
    },
    {
      "cell_type": "code",
      "source": [
        "#@title Prompt\n",
        "task_author_prompt = widgets.Textarea(\n",
        "    value=\"\"\"You are an experienced author of informatics olympiad problems.\n",
        "\n",
        "Your task is to come up with a perfect warm-up programming task for the Baltics Olympiad in Informatics.\n",
        "Informatics olympiad warm-up problems must have the following properties:\n",
        "  - Their statement reads like a real-life situation or a story where some character needs to solve some\n",
        "    kind of a problem they are facing.\n",
        "  - The solution to the problem involves the use of algorithmic coding. Participants will write a program\n",
        "    in Python that must read the input data via stdin and output the result via stdout.\n",
        "  - The participants usually need to come up with a clever combination of one or more classical\n",
        "    algorithms in order to solve the problem.\n",
        "  - The problem must allow a range of solutions using various algorithmic techniques, with different\n",
        "    algorithmic complexities (e.g. a brute force solution might be O(n^3) while a smart use of dynamic programming\n",
        "    could allow a linear solution, or the like).\n",
        "  - The optimal solution to the problem could be found, implemented and tested by an olympiad participant (who\n",
        "    is experienced in competitive programming) within about 30 minutes.\n",
        "  - A Python solution of less than 15 lines of code must exist.\n",
        "  - The problem must be accompanied by a number of tests, where each test consists of a text file with problem input data\n",
        "    and a text file with correct output.\n",
        "\n",
        "You are trying to develop a new olympiad problem. Please, proceed step by step as follows:\n",
        "\n",
        "# Step 1.\n",
        "\n",
        "List the most common algorithms or algorithmic techniques that are usually involved in informatics olympiad problems.\n",
        "\n",
        "# Step 2.\n",
        "\n",
        "Using the list of algorithms produced in Step 1, come up with five potential problems which require a combination of two or three\n",
        "algorithmics techniques listed in Step 1 to be solved.\n",
        "\n",
        "# Step 3.\n",
        "\n",
        "For each of the problems you produced in Step 2, verify that it indeed requires a clever combination of algorithmic techniques to be solved\n",
        "and that it can be solved using a range of approaches with different solutions having different algorithmic complexities.\n",
        "Remove problems that do not fit these criteria.\n",
        "\n",
        "# Step 4.\n",
        "\n",
        "Write the optimal solution for each of the problems remaining after Step 3 in Python.\n",
        "Leave only those who can be solved in at most 15 lines of code.\n",
        "\n",
        "# Step 5.\n",
        "\n",
        "Come up with a potential storyline for each of the problems remaining after step 4. Assess the interestingness of the storyline\n",
        "on a scale from 1 (boring) to 5 (exciting).\n",
        "\n",
        "Leave only the problems that scored at least 4.\n",
        "\n",
        "# Step 6.\n",
        "\n",
        "Finally, pick one of the problems from step 5 and:\n",
        "\n",
        "  - List what are the possible algorithmic solutions with possible algorithmic complexities.\n",
        "    For each such algorithmic complexity, create a test case (i.e. a pair of input and output files)\n",
        "    that could be solved using a Python solution with such algorithmic complexity within 0.1 seconds,\n",
        "    but would not be solvable by code that has worse complexity.\n",
        "\n",
        "  - List all the tricky corner cases the problem may have and for each corner case create a test case that would fail\n",
        "    unless the solution code takes that corner case into account.\n",
        "\n",
        "# Step 7.\n",
        "\n",
        "Output the produced problem in the following format:\n",
        "\n",
        "<problem>\n",
        "<statement>\n",
        ".. problem statement in Markdown format ...\n",
        "</statement>\n",
        "<solutions>\n",
        "  <solution complexity=\"linear/quadratic/...\">\n",
        "    ... solution in Python ...\n",
        "  </solution>\n",
        "  <solution ...>\n",
        "    ... solutions for other complexities ...\n",
        "  </solution>\n",
        "</solutions>\n",
        "<tests>\n",
        "  <test comment=\"..explanation of the test case\">\n",
        "    <input>\n",
        "      .. input text data ...\n",
        "    </input>\n",
        "    <output>\n",
        "    .. expected output text data...\n",
        "    </output>\n",
        "  </test>\n",
        "  ... other tests as required\n",
        "</tests>\n",
        "\"\"\",\n",
        "    description='Prompt:',\n",
        "    disabled=True,\n",
        "    layout=widgets.Layout(height='800px', width='auto'), # Adjust height/width\n",
        "    style={'description_width': 'initial'}\n",
        ")\n",
        "task_author_prompt"
      ],
      "metadata": {
        "colab": {
          "base_uri": "https://localhost:8080/",
          "height": 821,
          "referenced_widgets": [
            "e68abb54eb704650bbf5cb1aca875cee",
            "343dd27d04864ac4b8091960f757249a",
            "d37180cbe5674d7b8c6a93e2360abf52"
          ]
        },
        "id": "9q3JlgzfX-nM",
        "outputId": "518564e2-3a58-49d1-b0af-e859867c7ef5",
        "cellView": "form"
      },
      "execution_count": null,
      "outputs": [
        {
          "output_type": "display_data",
          "data": {
            "text/plain": [
              "Textarea(value='You are an experienced author of informatics olympiad problems.\\n\\nYour task is to come up wit…"
            ],
            "application/vnd.jupyter.widget-view+json": {
              "version_major": 2,
              "version_minor": 0,
              "model_id": "e68abb54eb704650bbf5cb1aca875cee"
            }
          },
          "metadata": {}
        }
      ]
    },
    {
      "cell_type": "code",
      "source": [
        "#@title Generate task\n",
        "%%time\n",
        "task_author = genai.GenerativeModel(\n",
        "  model_name=\"gemini-2.5-pro-exp-03-25\",\n",
        "  generation_config= {\n",
        "      \"temperature\": 0.5,\n",
        "      \"top_p\": 1,\n",
        "      \"top_k\": 50,\n",
        "  },\n",
        ")\n",
        "generated_task = task_author.generate_content(task_author_prompt.value)"
      ],
      "metadata": {
        "colab": {
          "base_uri": "https://localhost:8080/",
          "height": 52
        },
        "id": "c8_8rNSTt8vo",
        "outputId": "f15a9c5e-1577-45a8-ffe4-7fa20eaa52bb",
        "cellView": "form"
      },
      "execution_count": null,
      "outputs": [
        {
          "output_type": "stream",
          "name": "stdout",
          "text": [
            "CPU times: user 1.44 s, sys: 188 ms, total: 1.63 s\n",
            "Wall time: 4min 6s\n"
          ]
        }
      ]
    },
    {
      "cell_type": "markdown",
      "source": [
        "### Full thinking process (collapsible)"
      ],
      "metadata": {
        "id": "m0Jtp6AhvPlu"
      }
    },
    {
      "cell_type": "code",
      "source": [
        "print(generated_task.text)"
      ],
      "metadata": {
        "colab": {
          "base_uri": "https://localhost:8080/"
        },
        "id": "iCLt7ci6uhnU",
        "outputId": "96beecb7-be47-4ac9-e8d6-5868cf32a342"
      },
      "execution_count": null,
      "outputs": [
        {
          "output_type": "stream",
          "name": "stdout",
          "text": [
            "Okay, let's create the warm-up problem following the specified steps.\n",
            "\n",
            "**Step 1: List Common Algorithms/Techniques**\n",
            "\n",
            "Here's a list of common algorithms and techniques relevant to olympiad problems, particularly those suitable for warm-ups:\n",
            "\n",
            "*   **Sorting:** Comparison sorts (Merge Sort, TimSort), Counting Sort.\n",
            "*   **Searching:** Binary Search, Linear Search.\n",
            "*   **Greedy Algorithms:** Activity selection, Huffman coding basics, simple interval problems.\n",
            "*   **Dynamic Programming (DP):** Simple 1D DP (e.g., max subarray sum), basic 2D DP (e.g., LCS, Knapsack - maybe too complex for warm-up), Digit DP (unlikely for warm-up).\n",
            "*   **Data Structures:**\n",
            "    *   Arrays/Lists\n",
            "    *   Stacks/Queues\n",
            "    *   Heaps/Priority Queues\n",
            "    *   Hash Maps/Dictionaries/Sets\n",
            "    *   Prefix Sums\n",
            "*   **Graph Algorithms:** Basic Traversal (BFS, DFS). (Shortest paths, MST etc. usually beyond warm-up).\n",
            "*   **Two Pointers / Sliding Window:** Efficiently processing subarrays/subsequences.\n",
            "*   **Basic Math/Number Theory:** GCD, basic modular arithmetic.\n",
            "*   **String Manipulation:** Basic operations, simple hashing (maybe).\n",
            "*   **Bit Manipulation:** Basic operations (maybe).\n",
            "\n",
            "**Step 2: Propose Potential Problems**\n",
            "\n",
            "1.  **Tasks with Prep Time (Sorting + Greedy):** Given tasks `(prep_i, start_i, end_i)`, maximize the number of non-overlapping tasks where prep time `[start_i - prep_i, start_i)` must also not overlap with other tasks/preps.\n",
            "2.  **Subarray Sum Divisible by K (Prefix Sums + Hash Map):** Find the number of contiguous subarrays whose sum is divisible by K.\n",
            "3.  **Max Ratio Subset (Binary Search + Greedy):** Given items with `(W_i, V_i)`, find a subset maximizing `sum(V_i) / sum(W_i)`.\n",
            "4.  **Longest Smooth Subsequence (Sorting + DP):** Find the longest subsequence where `abs(a[i] - a[j]) <= D` for adjacent elements.\n",
            "5.  **Longest Subarray with K Distinct (Sliding Window + Hash Map):** Find the longest contiguous subarray with at most K distinct elements.\n",
            "\n",
            "**Step 3: Verify Problem Criteria**\n",
            "\n",
            "1.  **Tasks with Prep Time:** Requires sorting and a careful greedy choice. Allows O(N log N) vs exponential brute force. Fits.\n",
            "2.  **Subarray Sum Divisible by K:** Standard combination (Prefix Sum + Map). Allows O(N) vs O(N^2)/O(N^3). Fits.\n",
            "3.  **Max Ratio Subset:** Combination (Binary Search on Answer + Greedy Check). Allows O(N log AnswerRange) or O(N log N log AnswerRange) vs exponential. Fits.\n",
            "4.  **Longest Smooth Subsequence:** Combination (Sorting + DP). Allows O(N^2) DP vs exponential. Potential O(N log N) optimization exists but might be harder. Fits.\n",
            "5.  **Longest Subarray with K Distinct:** Standard combination (Sliding Window + Map). Allows O(N) vs O(N^2)/O(N^3). Fits.\n",
            "\n",
            "All five problems fit the criteria.\n",
            "\n",
            "**Step 4: Write Optimal Python Solutions (< 15 lines)**\n",
            "\n",
            "1.  **Tasks with Prep Time:** (Sorting by end time, greedy choice) - ~12 lines. Fits.\n",
            "2.  **Subarray Sum Divisible by K:** (Prefix Sum Modulo K + Dict) - ~11 lines. Fits.\n",
            "3.  **Max Ratio Subset:** (Binary Search + Linear Scan Check) - ~15 lines. Fits.\n",
            "4.  **Longest Smooth Subsequence:** (Sorting + O(N^2) DP) - ~12 lines. Fits. (Assuming N allows O(N^2)).\n",
            "5.  **Longest Subarray with K Distinct:** (Sliding Window + Dict) - ~13 lines. Fits.\n",
            "\n",
            "All five problems have short optimal (or reasonably fast) solutions.\n",
            "\n",
            "**Step 5: Create Storylines and Assess**\n",
            "\n",
            "1.  **Tasks with Prep Time:** Robotics lab scheduling. Score: 3/5.\n",
            "2.  **Subarray Sum Divisible by K:** Number game scoring. Score: 2/5.\n",
            "3.  **Max Ratio Subset:** Space explorer artifacts efficiency. Score: 4/5.\n",
            "4.  **Longest Smooth Subsequence:** Musician composing smooth melody. Score: 4/5.\n",
            "5.  **Longest Subarray with K Distinct:** Biologist analyzing simple DNA segments. Score: 4/5.\n",
            "\n",
            "Problems 3, 4, and 5 scored >= 4. We select **Problem 5: Longest Subarray with K Distinct** for its classic technique, clarity, and good storyline potential.\n",
            "\n",
            "**Step 6: Analyze Problem 5**\n",
            "\n",
            "*   **Problem:** Given an array `A` of N integers and an integer K, find the length of the longest contiguous subarray of `A` that contains at most K distinct integers.\n",
            "*   **Storyline:** Biologist analyzing DNA sequences for \"simple\" segments (at most K distinct nucleotide types).\n",
            "*   **Solutions & Complexities:**\n",
            "    *   O(N^3): Naive check of all subarrays + distinct count.\n",
            "    *   O(N^2): Iterate start `i`, extend end `j`, maintain distinct count (e.g., with set/map).\n",
            "    *   O(N): Sliding window (`left`, `right`) with frequency map.\n",
            "*   **Complexity-Discriminating Tests:**\n",
            "    *   `test_N500_N3`: N=500. O(N^3) too slow, O(N^2) okay, O(N) okay.\n",
            "    *   `test_N10000_N2`: N=10000. O(N^2) too slow, O(N) okay.\n",
            "    *   `test_N200k_N`: N=200000. Only O(N) passes.\n",
            "*   **Corner Cases & Tests:**\n",
            "    *   `test_K0`: K=0. Output 0.\n",
            "    *   `test_K_large`: K >= number of distinct elements. Output N.\n",
            "    *   `test_N0`: N=0. Output 0.\n",
            "    *   `test_all_same`: All elements identical. Output N.\n",
            "    *   `test_all_distinct`: All elements distinct. Output K (or N if N < K).\n",
            "    *   `test_neg_large`: Test with negative/large values.\n",
            "    *   `test_small_1`, `test_small_2`: Basic correctness tests.\n",
            "\n",
            "**Step 7: Final Problem Output**\n",
            "\n",
            "```xml\n",
            "<problem>\n",
            "<statement>\n",
            "# Simple DNA Segments\n",
            "\n",
            "A young biologist, Alex, is studying genetic sequences. A DNA sequence can be represented as a sequence of integers, where each integer corresponds to a specific nucleotide type. Alex is particularly interested in finding \"simple\" segments within a long DNA sequence.\n",
            "\n",
            "A segment is considered \"simple\" if it contains **at most K** different types of nucleotides (i.e., at most K distinct integer values). Alex needs your help to find the length of the **longest contiguous simple segment** in a given DNA sequence.\n",
            "\n",
            "**Input**\n",
            "\n",
            "The first line contains two integers, N and K (0 <= K <= N <= 200,000), representing the length of the DNA sequence and the maximum number of distinct nucleotide types allowed in a simple segment.\n",
            "\n",
            "The second line contains N integers `a_1, a_2, ..., a_N` (-1,000,000,000 <= a_i <= 1,000,000,000), representing the DNA sequence.\n",
            "\n",
            "**Output**\n",
            "\n",
            "Output a single integer, the length of the longest contiguous subarray (segment) of the sequence `a` that contains at most K distinct integers.\n",
            "\n",
            "**Example 1**\n",
            "\n",
            "*Input:*\n",
            "```\n",
            "7 2\n",
            "1 2 1 3 1 2 4\n",
            "```\n",
            "\n",
            "*Output:*\n",
            "```\n",
            "3\n",
            "```\n",
            "\n",
            "*Explanation:*\n",
            "The subarrays are:\n",
            "[1] (1 distinct) - len 1\n",
            "[1, 2] (2 distinct) - len 2\n",
            "[1, 2, 1] (2 distinct) - len 3\n",
            "[1, 2, 1, 3] (3 distinct) - len 4 (Too many)\n",
            "[2] (1 distinct) - len 1\n",
            "[2, 1] (2 distinct) - len 2\n",
            "[2, 1, 3] (3 distinct) - len 3 (Too many)\n",
            "[1] (1 distinct) - len 1\n",
            "[1, 3] (2 distinct) - len 2\n",
            "[1, 3, 1] (2 distinct) - len 3\n",
            "[1, 3, 1, 2] (3 distinct) - len 4 (Too many)\n",
            "...\n",
            "The longest subarrays with at most K=2 distinct elements are [1, 2, 1] and [1, 3, 1], both of length 3.\n",
            "\n",
            "**Example 2**\n",
            "\n",
            "*Input:*\n",
            "```\n",
            "10 3\n",
            "1 2 3 4 1 2 3 1 2 1\n",
            "```\n",
            "\n",
            "*Output:*\n",
            "```\n",
            "5\n",
            "```\n",
            "\n",
            "*Explanation:*\n",
            "The subarray [4, 1, 2, 3, 1] (from index 3 to 7, 0-based) has elements {4, 1, 2, 3}. 4 distinct elements > K=3.\n",
            "The subarray [1, 2, 3, 1, 2] (from index 4 to 8) has elements {1, 2, 3}. 3 distinct elements <= K=3. Length is 5. This is the longest possible.\n",
            "\n",
            "**Example 3**\n",
            "\n",
            "*Input:*\n",
            "```\n",
            "5 5\n",
            "-10 20 -10 30 20\n",
            "```\n",
            "\n",
            "*Output:*\n",
            "```\n",
            "5\n",
            "```\n",
            "\n",
            "*Explanation:*\n",
            "The entire array has distinct elements {-10, 20, 30}, which is 3 distinct elements. Since 3 <= K=5, the whole array is a simple segment. Length is 5.\n",
            "\n",
            "</statement>\n",
            "<solutions>\n",
            "  <solution complexity=\"O(N)\">\n",
            "```python\n",
            "import sys\n",
            "\n",
            "def solve():\n",
            "    n, k = map(int, sys.stdin.readline().split())\n",
            "    if n == 0:\n",
            "        print(0)\n",
            "        return\n",
            "    a = list(map(int, sys.stdin.readline().split()))\n",
            "\n",
            "    counts = {}\n",
            "    max_len = 0\n",
            "    left = 0\n",
            "    for right in range(n):\n",
            "        # Add element a[right] to the window\n",
            "        counts[a[right]] = counts.get(a[right], 0) + 1\n",
            "\n",
            "        # Shrink window from left if it violates the K distinct elements condition\n",
            "        while len(counts) > k:\n",
            "            counts[a[left]] -= 1\n",
            "            if counts[a[left]] == 0:\n",
            "                del counts[a[left]]\n",
            "            left += 1\n",
            "\n",
            "        # Update max_len with the length of the current valid window\n",
            "        # The window A[left..right] is guaranteed to be valid here\n",
            "        max_len = max(max_len, right - left + 1)\n",
            "\n",
            "    print(max_len)\n",
            "\n",
            "solve()\n",
            "```\n",
            "  </solution>\n",
            "  <solution complexity=\"O(N^2)\">\n",
            "```python\n",
            "import sys\n",
            "\n",
            "def solve():\n",
            "    n, k = map(int, sys.stdin.readline().split())\n",
            "    if n == 0:\n",
            "        print(0)\n",
            "        return\n",
            "    a = list(map(int, sys.stdin.readline().split()))\n",
            "\n",
            "    max_len = 0\n",
            "    for i in range(n):\n",
            "        distinct_elements = set()\n",
            "        for j in range(i, n):\n",
            "            distinct_elements.add(a[j])\n",
            "            if len(distinct_elements) <= k:\n",
            "                max_len = max(max_len, j - i + 1)\n",
            "            else:\n",
            "                # Once we exceed K distinct elements for a fixed start i,\n",
            "                # extending j further won't help\n",
            "                break\n",
            "    print(max_len)\n",
            "\n",
            "solve()\n",
            "```\n",
            "  </solution>\n",
            "   <solution complexity=\"O(N^3)\">\n",
            "```python\n",
            "import sys\n",
            "\n",
            "def solve():\n",
            "    n, k = map(int, sys.stdin.readline().split())\n",
            "    if n == 0:\n",
            "        print(0)\n",
            "        return\n",
            "    a = list(map(int, sys.stdin.readline().split()))\n",
            "\n",
            "    max_len = 0\n",
            "    for i in range(n):\n",
            "        for j in range(i, n):\n",
            "            # Extract subarray and count distinct elements\n",
            "            subarray = a[i : j+1]\n",
            "            distinct_elements = set(subarray)\n",
            "            if len(distinct_elements) <= k:\n",
            "                max_len = max(max_len, len(subarray)) # or j - i + 1\n",
            "\n",
            "    print(max_len)\n",
            "\n",
            "solve()\n",
            "```\n",
            "  </solution>\n",
            "</solutions>\n",
            "<tests>\n",
            "  <test comment=\"Example 1 from statement\">\n",
            "    <input>\n",
            "7 2\n",
            "1 2 1 3 1 2 4\n",
            "    </input>\n",
            "    <output>\n",
            "3\n",
            "    </output>\n",
            "  </test>\n",
            "  <test comment=\"Example 2 from statement\">\n",
            "    <input>\n",
            "10 3\n",
            "1 2 3 4 1 2 3 1 2 1\n",
            "    </input>\n",
            "    <output>\n",
            "5\n",
            "    </output>\n",
            "  </test>\n",
            "  <test comment=\"Example 3 from statement\">\n",
            "    <input>\n",
            "5 5\n",
            "-10 20 -10 30 20\n",
            "    </input>\n",
            "    <output>\n",
            "5\n",
            "    </output>\n",
            "  </test>\n",
            "  <test comment=\"Corner Case: K=0\">\n",
            "    <input>\n",
            "5 0\n",
            "1 2 1 3 2\n",
            "    </input>\n",
            "    <output>\n",
            "0\n",
            "    </output>\n",
            "  </test>\n",
            "   <test comment=\"Corner Case: K=0, N=0\">\n",
            "    <input>\n",
            "0 0\n",
            "    </input>\n",
            "    <output>\n",
            "0\n",
            "    </output>\n",
            "  </test>\n",
            "  <test comment=\"Corner Case: N=0\">\n",
            "    <input>\n",
            "0 5\n",
            "    </input>\n",
            "    <output>\n",
            "0\n",
            "    </output>\n",
            "  </test>\n",
            "  <test comment=\"Corner Case: K is large enough\">\n",
            "    <input>\n",
            "5 10\n",
            "1 2 1 3 2\n",
            "    </input>\n",
            "    <output>\n",
            "5\n",
            "    </output>\n",
            "  </test>\n",
            "  <test comment=\"Corner Case: All elements are the same, K=1\">\n",
            "    <input>\n",
            "10 1\n",
            "5 5 5 5 5 5 5 5 5 5\n",
            "    </input>\n",
            "    <output>\n",
            "10\n",
            "    </output>\n",
            "  </test>\n",
            "   <test comment=\"Corner Case: All elements are the same, K > 1\">\n",
            "    <input>\n",
            "10 3\n",
            "5 5 5 5 5 5 5 5 5 5\n",
            "    </input>\n",
            "    <output>\n",
            "10\n",
            "    </output>\n",
            "  </test>\n",
            "  <test comment=\"Corner Case: All elements are distinct\">\n",
            "    <input>\n",
            "10 3\n",
            "1 2 3 4 5 6 7 8 9 10\n",
            "    </input>\n",
            "    <output>\n",
            "3\n",
            "    </output>\n",
            "  </test>\n",
            "   <test comment=\"Corner Case: All elements distinct, K >= N\">\n",
            "    <input>\n",
            "10 10\n",
            "1 2 3 4 5 6 7 8 9 10\n",
            "    </input>\n",
            "    <output>\n",
            "10\n",
            "    </output>\n",
            "  </test>\n",
            "  <test comment=\"Corner Case: Negative and large numbers\">\n",
            "    <input>\n",
            "8 3\n",
            "1000 -200 1000 30 -200 30 1000 5\n",
            "    </input>\n",
            "    <output>\n",
            "7\n",
            "    </output>\n",
            "  </test>\n",
            "  <test comment=\"Small test case from analysis\">\n",
            "    <input>\n",
            "10 2\n",
            "1 2 3 1 2 3 1 2 3 1\n",
            "    </input>\n",
            "    <output>\n",
            "2\n",
            "    </output>\n",
            "  </test>\n",
            "  <test comment=\"Complexity check: N=500. Should fail O(N^3)\">\n",
            "    <input>\n",
            "500 10\n",
            "1 2 3 4 5 6 7 8 9 10 11 12 13 14 15 16 17 18 19 20 1 2 3 4 5 6 7 8 9 10 11 12 13 14 15 16 17 18 19 20 1 2 3 4 5 6 7 8 9 10 11 12 13 14 15 16 17 18 19 20 1 2 3 4 5 6 7 8 9 10 11 12 13 14 15 16 17 18 19 20 1 2 3 4 5 6 7 8 9 10 11 12 13 14 15 16 17 18 19 20 1 2 3 4 5 6 7 8 9 10 11 12 13 14 15 16 17 18 19 20 1 2 3 4 5 6 7 8 9 10 11 12 13 14 15 16 17 18 19 20 1 2 3 4 5 6 7 8 9 10 11 12 13 14 15 16 17 18 19 20 1 2 3 4 5 6 7 8 9 10 11 12 13 14 15 16 17 18 19 20 1 2 3 4 5 6 7 8 9 10 11 12 13 14 15 16 17 18 19 20 1 2 3 4 5 6 7 8 9 10 11 12 13 14 15 16 17 18 19 20 1 2 3 4 5 6 7 8 9 10 11 12 13 14 15 16 17 18 19 20 1 2 3 4 5 6 7 8 9 10 11 12 13 14 15 16 17 18 19 20 1 2 3 4 5 6 7 8 9 10 11 12 13 14 15 16 17 18 19 20 1 2 3 4 5 6 7 8 9 10 11 12 13 14 15 16 17 18 19 20 1 2 3 4 5 6 7 8 9 10 11 12 13 14 15 16 17 18 19 20 1 2 3 4 5 6 7 8 9 10 11 12 13 14 15 16 17 18 19 20 1 2 3 4 5 6 7 8 9 10 11 12 13 14 15 16 17 18 19 20 1 2 3 4 5 6 7 8 9 10 11 12 13 14 15 16 17 18 19 20 1 2 3 4 5 6 7 8 9 10 11 12 13 14 15 16 17 18 19 20 1 2 3 4 5 6 7 8 9 10 11 12 13 14 15 16 17 18 19 20 1 2 3 4 5 6 7 8 9 10 11 12 13 14 15 16 17 18 19 20 1 2 3 4 5 6 7 8 9 10 11 12 13 14 15 16 17 18 19 20 1 2 3 4 5 6 7 8 9 10 11 12 13 14 15 16 17 18 19 20\n",
            "    </input>\n",
            "    <output>\n",
            "    19\n",
            "    </output>\n",
            "    <!-- Explanation: Seq repeats 1..20. K=10. Longest is [1..10] (len 10), then [1..10, 1] (len 11), ... [1..10, 1..9] (len 19). -->\n",
            "  </test>\n",
            "   <test comment=\"Complexity check: N=10000. Should fail O(N^2)\">\n",
            "    <input>\n",
            "10000 50\n",
            "1 2 3 4 5 6 7 8 9 10 11 12 13 14 15 16 17 18 19 20 21 22 23 24 25 26 27 28 29 30 31 32 33 34 35 36 37 38 39 40 41 42 43 44 45 46 47 48 49 50 51 52 53 54 55 56 57 58 59 60 61 62 63 64 65 66 67 68 69 70 71 72 73 74 75 76 77 78 79 80 81 82 83 84 85 86 87 88 89 90 91 92 93 94 95 96 97 98 99 100 1 2 3 4 5 6 7 8 9 10 11 12 13 14 15 16 17 18 19 20 21 22 23 24 25 26 27 28 29 30 31 32 33 34 35 36 37 38 39 40 41 42 43 44 45 46 47 48 49 50 51 52 53 54 55 56 57 58 59 60 61 62 63 64 65 66 67 68 69 70 71 72 73 74 75 76 77 78 79 80 81 82 83 84 85 86 87 88 89 90 91 92 93 94 95 96 97 98 99 100 1 2 3 4 5 6 7 8 9 10 11 12 13 14 15 16 17 18 19 20 21 22 23 24 25 26 27 28 29 30 31 32 33 34 35 36 37 38 39 40 41 42 43 44 45 46 47 48 49 50 51 52 53 54 55 56 57 58 59 60 61 62 63 64 65 66 67 68 69 70 71 72 73 74 75 76 77 78 79 80 81 82 83 84 85 86 87 88 89 90 91 92 93 94 95 96 97 98 99 100 1 2 3 4 5 6 7 8 9 10 11 12 13 14 15 16 17 18 19 20 21 22 23 24 25 26 27 28 29 30 31 32 33 34 35 36 37 38 39 40 41 42 43 44 45 46 47 48 49 50 51 52 53 54 55 56 57 58 59 60 61 62 63 64 65 66 67 68 69 70 71 72 73 74 75 76 77 78 79 80 81 82 83 84 85 86 87 88 89 90 91 92 93 94 95 96 97 98 99 100 1 2 3 4 5 6 7 8 9 10 11 12 13 14 15 16 17 18 19 20 21 22 23 24 25 26 27 28 29 30 31 32 33 34 35 36 37 38 39 40 41 42 43 44 45 46 47 48 49 50 51 52 53 54 55 56 57 58 59 60 61 62 63 64 65 66 67 68 69 70 71 72 73 74 75 76 77 78 79 80 81 82 83 84 85 86 87 88 89 90 91 92 93 94 95 96 97 98 99 100 ... (Sequence 1..100 repeated 100 times)\n",
            "    </input>\n",
            "    <output>\n",
            "    99\n",
            "    </output>\n",
            "    <!-- Explanation: Seq repeats 1..100 (M=100). K=50. Longest window has K distinct elements + K-1 repeats. Length K + (K-1) = 50 + 49 = 99. -->\n",
            "  </test>\n",
            "  <test comment=\"Complexity check: N=200000. Should only allow O(N)\">\n",
            "    <input>\n",
            "200000 1000\n",
            "1 2 3 4 5 6 7 8 9 10 11 12 13 14 15 16 17 18 19 20 21 22 23 24 25 26 27 28 29 30 31 32 33 34 35 36 37 38 39 40 41 42 43 44 45 46 47 48 49 50 51 52 53 54 55 56 57 58 59 60 61 62 63 64 65 66 67 68 69 70 71 72 73 74 75 76 77 78 79 80 81 82 83 84 85 86 87 88 89 90 91 92 93 94 95 96 97 98 99 100 101 102 103 104 105 106 107 108 109 110 111 112 113 114 115 116 117 118 119 120 121 122 123 124 125 126 127 128 129 130 131 132 133 134 135 136 137 138 139 140 141 142 143 144 145 146 147 148 149 150 151 152 153 154 155 156 157 158 159 160 161 162 163 164 165 166 167 168 169 170 171 172 173 174 175 176 177 178 179 180 181 182 183 184 185 186 187 188 189 190 191 192 193 194 195 196 197 198 199 200 ... (Sequence (i % 10000) + 1 for i in range 200000)\n",
            "    </input>\n",
            "    <output>\n",
            "    1999\n",
            "    </output>\n",
            "    <!-- Explanation: Seq repeats 1..10000 (M=10000). K=1000. Longest window has K distinct elements + K-1 repeats. Length K + (K-1) = 1000 + 999 = 1999. -->\n",
            "  </test>\n",
            "   <test comment=\"Complexity check: N=200000, different pattern\">\n",
            "    <input>\n",
            "200000 50000\n",
            "1 1 1 1 2 2 2 2 3 3 3 3 4 4 4 4 5 5 5 5 6 6 6 6 7 7 7 7 8 8 8 8 9 9 9 9 10 10 10 10 11 11 11 11 12 12 12 12 13 13 13 13 14 14 14 14 15 15 15 15 16 16 16 16 17 17 17 17 18 18 18 18 19 19 19 19 20 20 20 20 21 21 21 21 22 22 22 22 23 23 23 23 24 24 24 24 25 25 25 25 26 26 26 26 27 27 27 27 28 28 28 28 29 29 29 29 30 30 30 30 31 31 31 31 32 32 32 32 33 33 33 33 34 34 34 34 35 35 35 35 36 36 36 36 37 37 37 37 38 38 38 38 39 39 39 39 40 40 40 40 41 41 41 41 42 42 42 42 43 43 43 43 44 44 44 44 45 45 45 45 46 46 46 46 47 47 47 47 48 48 48 48 49 49 49 49 50 50 50 50 ... (Sequence 1..50000, each repeated 4 times)\n",
            "    </input>\n",
            "    <output>\n",
            "    200000\n",
            "    </output>\n",
            "    <!-- Explanation: K=50000. The sequence contains exactly 50000 distinct numbers. The whole sequence has <= K distinct numbers. Length is N=200000. -->\n",
            "  </test>\n",
            "\n",
            "</tests>\n",
            "</problem>\n",
            "```\n"
          ]
        }
      ]
    },
    {
      "cell_type": "markdown",
      "source": [
        "## Generated problem"
      ],
      "metadata": {
        "id": "mmeCnq889Bwq"
      }
    },
    {
      "cell_type": "code",
      "source": [
        "#@title Extract data\n",
        "# (it's not really parsable XML)\n",
        "import re\n",
        "from IPython import display\n",
        "\n",
        "problem_data = generated_task.text[generated_task.text.index(\"<problem>\")+len(\"<problem>\"):]\n",
        "problem_data = problem_data[:problem_data.index(\"</problem>\")]\n",
        "statement = re.findall(\"<statement>(.+?)</statement>\", problem_data, re.DOTALL)[0].strip()\n",
        "solutions = re.findall(\"<solution complexity=\\\"(.+?)\\\">(.+?)</solution>\", problem_data, re.DOTALL)\n",
        "tests = re.findall(\"<test comment=\\\"(.+?)\\\">.*?<input>(.+?)</input>.*?<output>(.+?)</output>.*?</test>\", problem_data, re.DOTALL)\n",
        "tests = [(cmt, inp.strip(), out.strip()) for cmt, inp, out in tests]"
      ],
      "metadata": {
        "cellView": "form",
        "id": "59iGreUXvYUk"
      },
      "execution_count": null,
      "outputs": []
    },
    {
      "cell_type": "code",
      "source": [
        "#@title Problem statement\n",
        "display.display(display.Markdown(statement))"
      ],
      "metadata": {
        "colab": {
          "base_uri": "https://localhost:8080/",
          "height": 816
        },
        "cellView": "form",
        "id": "fs1j9FUPwYOt",
        "outputId": "a28cf629-f671-46a6-bd8f-8aebd2cbea76"
      },
      "execution_count": null,
      "outputs": [
        {
          "output_type": "display_data",
          "data": {
            "text/plain": [
              "<IPython.core.display.Markdown object>"
            ],
            "text/markdown": "# Simple DNA Segments\n\nA young biologist, Alex, is studying genetic sequences. A DNA sequence can be represented as a sequence of integers, where each integer corresponds to a specific nucleotide type. Alex is particularly interested in finding \"simple\" segments within a long DNA sequence.\n\nA segment is considered \"simple\" if it contains **at most K** different types of nucleotides (i.e., at most K distinct integer values). Alex needs your help to find the length of the **longest contiguous simple segment** in a given DNA sequence.\n\n**Input**\n\nThe first line contains two integers, N and K (0 <= K <= N <= 200,000), representing the length of the DNA sequence and the maximum number of distinct nucleotide types allowed in a simple segment.\n\nThe second line contains N integers `a_1, a_2, ..., a_N` (-1,000,000,000 <= a_i <= 1,000,000,000), representing the DNA sequence.\n\n**Output**\n\nOutput a single integer, the length of the longest contiguous subarray (segment) of the sequence `a` that contains at most K distinct integers.\n\n**Example 1**\n\n*Input:*\n```\n7 2\n1 2 1 3 1 2 4\n```\n\n*Output:*\n```\n3\n```\n\n*Explanation:*\nThe subarrays are:\n[1] (1 distinct) - len 1\n[1, 2] (2 distinct) - len 2\n[1, 2, 1] (2 distinct) - len 3\n[1, 2, 1, 3] (3 distinct) - len 4 (Too many)\n[2] (1 distinct) - len 1\n[2, 1] (2 distinct) - len 2\n[2, 1, 3] (3 distinct) - len 3 (Too many)\n[1] (1 distinct) - len 1\n[1, 3] (2 distinct) - len 2\n[1, 3, 1] (2 distinct) - len 3\n[1, 3, 1, 2] (3 distinct) - len 4 (Too many)\n...\nThe longest subarrays with at most K=2 distinct elements are [1, 2, 1] and [1, 3, 1], both of length 3.\n\n**Example 2**\n\n*Input:*\n```\n10 3\n1 2 3 4 1 2 3 1 2 1\n```\n\n*Output:*\n```\n5\n```\n\n*Explanation:*\nThe subarray [4, 1, 2, 3, 1] (from index 3 to 7, 0-based) has elements {4, 1, 2, 3}. 4 distinct elements > K=3.\nThe subarray [1, 2, 3, 1, 2] (from index 4 to 8) has elements {1, 2, 3}. 3 distinct elements <= K=3. Length is 5. This is the longest possible.\n\n**Example 3**\n\n*Input:*\n```\n5 5\n-10 20 -10 30 20\n```\n\n*Output:*\n```\n5\n```\n\n*Explanation:*\nThe entire array has distinct elements {-10, 20, 30}, which is 3 distinct elements. Since 3 <= K=5, the whole array is a simple segment. Length is 5."
          },
          "metadata": {}
        }
      ]
    },
    {
      "cell_type": "code",
      "source": [
        "#@title Sample solutions\n",
        "for i, (cpl, code) in enumerate(solutions):\n",
        "  display.display(display.HTML(f\"<h2>Solution #{i} ({cpl})</h2>\"))\n",
        "  display.display(display.Markdown(code))"
      ],
      "metadata": {
        "colab": {
          "base_uri": "https://localhost:8080/",
          "height": 1000
        },
        "cellView": "form",
        "id": "3olw6XqvyreX",
        "outputId": "ed1684ce-b694-4a4e-8830-32b1a27bc519"
      },
      "execution_count": null,
      "outputs": [
        {
          "output_type": "display_data",
          "data": {
            "text/plain": [
              "<IPython.core.display.HTML object>"
            ],
            "text/html": [
              "<h2>Solution #0 (O(N))</h2>"
            ]
          },
          "metadata": {}
        },
        {
          "output_type": "display_data",
          "data": {
            "text/plain": [
              "<IPython.core.display.Markdown object>"
            ],
            "text/markdown": "\n```python\nimport sys\n\ndef solve():\n    n, k = map(int, sys.stdin.readline().split())\n    if n == 0:\n        print(0)\n        return\n    a = list(map(int, sys.stdin.readline().split()))\n\n    counts = {}\n    max_len = 0\n    left = 0\n    for right in range(n):\n        # Add element a[right] to the window\n        counts[a[right]] = counts.get(a[right], 0) + 1\n\n        # Shrink window from left if it violates the K distinct elements condition\n        while len(counts) > k:\n            counts[a[left]] -= 1\n            if counts[a[left]] == 0:\n                del counts[a[left]]\n            left += 1\n\n        # Update max_len with the length of the current valid window\n        # The window A[left..right] is guaranteed to be valid here\n        max_len = max(max_len, right - left + 1)\n\n    print(max_len)\n\nsolve()\n```\n  "
          },
          "metadata": {}
        },
        {
          "output_type": "display_data",
          "data": {
            "text/plain": [
              "<IPython.core.display.HTML object>"
            ],
            "text/html": [
              "<h2>Solution #1 (O(N^2))</h2>"
            ]
          },
          "metadata": {}
        },
        {
          "output_type": "display_data",
          "data": {
            "text/plain": [
              "<IPython.core.display.Markdown object>"
            ],
            "text/markdown": "\n```python\nimport sys\n\ndef solve():\n    n, k = map(int, sys.stdin.readline().split())\n    if n == 0:\n        print(0)\n        return\n    a = list(map(int, sys.stdin.readline().split()))\n\n    max_len = 0\n    for i in range(n):\n        distinct_elements = set()\n        for j in range(i, n):\n            distinct_elements.add(a[j])\n            if len(distinct_elements) <= k:\n                max_len = max(max_len, j - i + 1)\n            else:\n                # Once we exceed K distinct elements for a fixed start i,\n                # extending j further won't help\n                break\n    print(max_len)\n\nsolve()\n```\n  "
          },
          "metadata": {}
        },
        {
          "output_type": "display_data",
          "data": {
            "text/plain": [
              "<IPython.core.display.HTML object>"
            ],
            "text/html": [
              "<h2>Solution #2 (O(N^3))</h2>"
            ]
          },
          "metadata": {}
        },
        {
          "output_type": "display_data",
          "data": {
            "text/plain": [
              "<IPython.core.display.Markdown object>"
            ],
            "text/markdown": "\n```python\nimport sys\n\ndef solve():\n    n, k = map(int, sys.stdin.readline().split())\n    if n == 0:\n        print(0)\n        return\n    a = list(map(int, sys.stdin.readline().split()))\n\n    max_len = 0\n    for i in range(n):\n        for j in range(i, n):\n            # Extract subarray and count distinct elements\n            subarray = a[i : j+1]\n            distinct_elements = set(subarray)\n            if len(distinct_elements) <= k:\n                max_len = max(max_len, len(subarray)) # or j - i + 1\n\n    print(max_len)\n\nsolve()\n```\n  "
          },
          "metadata": {}
        }
      ]
    },
    {
      "cell_type": "code",
      "source": [
        "#@title Tests\n",
        "for cmt, inp, out in tests:\n",
        "  display.display(display.HTML(f\"<h3>{cmt}</h3><pre>{inp}</pre><h4>Out</h4><pre>{out}</pre>\"))"
      ],
      "metadata": {
        "colab": {
          "base_uri": "https://localhost:8080/",
          "height": 1000
        },
        "id": "lkkA_OAMweh_",
        "outputId": "63920368-2648-465f-ca68-05b2f85364b8"
      },
      "execution_count": null,
      "outputs": [
        {
          "output_type": "display_data",
          "data": {
            "text/plain": [
              "<IPython.core.display.HTML object>"
            ],
            "text/html": [
              "<h3>Example 1 from statement</h3><pre>7 2\n",
              "1 2 1 3 1 2 4</pre><h4>Out</h4><pre>3</pre>"
            ]
          },
          "metadata": {}
        },
        {
          "output_type": "display_data",
          "data": {
            "text/plain": [
              "<IPython.core.display.HTML object>"
            ],
            "text/html": [
              "<h3>Example 2 from statement</h3><pre>10 3\n",
              "1 2 3 4 1 2 3 1 2 1</pre><h4>Out</h4><pre>5</pre>"
            ]
          },
          "metadata": {}
        },
        {
          "output_type": "display_data",
          "data": {
            "text/plain": [
              "<IPython.core.display.HTML object>"
            ],
            "text/html": [
              "<h3>Example 3 from statement</h3><pre>5 5\n",
              "-10 20 -10 30 20</pre><h4>Out</h4><pre>5</pre>"
            ]
          },
          "metadata": {}
        },
        {
          "output_type": "display_data",
          "data": {
            "text/plain": [
              "<IPython.core.display.HTML object>"
            ],
            "text/html": [
              "<h3>Corner Case: K=0</h3><pre>5 0\n",
              "1 2 1 3 2</pre><h4>Out</h4><pre>0</pre>"
            ]
          },
          "metadata": {}
        },
        {
          "output_type": "display_data",
          "data": {
            "text/plain": [
              "<IPython.core.display.HTML object>"
            ],
            "text/html": [
              "<h3>Corner Case: K=0, N=0</h3><pre>0 0</pre><h4>Out</h4><pre>0</pre>"
            ]
          },
          "metadata": {}
        },
        {
          "output_type": "display_data",
          "data": {
            "text/plain": [
              "<IPython.core.display.HTML object>"
            ],
            "text/html": [
              "<h3>Corner Case: N=0</h3><pre>0 5</pre><h4>Out</h4><pre>0</pre>"
            ]
          },
          "metadata": {}
        },
        {
          "output_type": "display_data",
          "data": {
            "text/plain": [
              "<IPython.core.display.HTML object>"
            ],
            "text/html": [
              "<h3>Corner Case: K is large enough</h3><pre>5 10\n",
              "1 2 1 3 2</pre><h4>Out</h4><pre>5</pre>"
            ]
          },
          "metadata": {}
        },
        {
          "output_type": "display_data",
          "data": {
            "text/plain": [
              "<IPython.core.display.HTML object>"
            ],
            "text/html": [
              "<h3>Corner Case: All elements are the same, K=1</h3><pre>10 1\n",
              "5 5 5 5 5 5 5 5 5 5</pre><h4>Out</h4><pre>10</pre>"
            ]
          },
          "metadata": {}
        },
        {
          "output_type": "display_data",
          "data": {
            "text/plain": [
              "<IPython.core.display.HTML object>"
            ],
            "text/html": [
              "<h3>Corner Case: All elements are the same, K > 1</h3><pre>10 3\n",
              "5 5 5 5 5 5 5 5 5 5</pre><h4>Out</h4><pre>10</pre>"
            ]
          },
          "metadata": {}
        },
        {
          "output_type": "display_data",
          "data": {
            "text/plain": [
              "<IPython.core.display.HTML object>"
            ],
            "text/html": [
              "<h3>Corner Case: All elements are distinct</h3><pre>10 3\n",
              "1 2 3 4 5 6 7 8 9 10</pre><h4>Out</h4><pre>3</pre>"
            ]
          },
          "metadata": {}
        },
        {
          "output_type": "display_data",
          "data": {
            "text/plain": [
              "<IPython.core.display.HTML object>"
            ],
            "text/html": [
              "<h3>Corner Case: All elements distinct, K >= N</h3><pre>10 10\n",
              "1 2 3 4 5 6 7 8 9 10</pre><h4>Out</h4><pre>10</pre>"
            ]
          },
          "metadata": {}
        },
        {
          "output_type": "display_data",
          "data": {
            "text/plain": [
              "<IPython.core.display.HTML object>"
            ],
            "text/html": [
              "<h3>Corner Case: Negative and large numbers</h3><pre>8 3\n",
              "1000 -200 1000 30 -200 30 1000 5</pre><h4>Out</h4><pre>7</pre>"
            ]
          },
          "metadata": {}
        },
        {
          "output_type": "display_data",
          "data": {
            "text/plain": [
              "<IPython.core.display.HTML object>"
            ],
            "text/html": [
              "<h3>Small test case from analysis</h3><pre>10 2\n",
              "1 2 3 1 2 3 1 2 3 1</pre><h4>Out</h4><pre>2</pre>"
            ]
          },
          "metadata": {}
        },
        {
          "output_type": "display_data",
          "data": {
            "text/plain": [
              "<IPython.core.display.HTML object>"
            ],
            "text/html": [
              "<h3>Complexity check: N=500. Should fail O(N^3)</h3><pre>500 10\n",
              "1 2 3 4 5 6 7 8 9 10 11 12 13 14 15 16 17 18 19 20 1 2 3 4 5 6 7 8 9 10 11 12 13 14 15 16 17 18 19 20 1 2 3 4 5 6 7 8 9 10 11 12 13 14 15 16 17 18 19 20 1 2 3 4 5 6 7 8 9 10 11 12 13 14 15 16 17 18 19 20 1 2 3 4 5 6 7 8 9 10 11 12 13 14 15 16 17 18 19 20 1 2 3 4 5 6 7 8 9 10 11 12 13 14 15 16 17 18 19 20 1 2 3 4 5 6 7 8 9 10 11 12 13 14 15 16 17 18 19 20 1 2 3 4 5 6 7 8 9 10 11 12 13 14 15 16 17 18 19 20 1 2 3 4 5 6 7 8 9 10 11 12 13 14 15 16 17 18 19 20 1 2 3 4 5 6 7 8 9 10 11 12 13 14 15 16 17 18 19 20 1 2 3 4 5 6 7 8 9 10 11 12 13 14 15 16 17 18 19 20 1 2 3 4 5 6 7 8 9 10 11 12 13 14 15 16 17 18 19 20 1 2 3 4 5 6 7 8 9 10 11 12 13 14 15 16 17 18 19 20 1 2 3 4 5 6 7 8 9 10 11 12 13 14 15 16 17 18 19 20 1 2 3 4 5 6 7 8 9 10 11 12 13 14 15 16 17 18 19 20 1 2 3 4 5 6 7 8 9 10 11 12 13 14 15 16 17 18 19 20 1 2 3 4 5 6 7 8 9 10 11 12 13 14 15 16 17 18 19 20 1 2 3 4 5 6 7 8 9 10 11 12 13 14 15 16 17 18 19 20 1 2 3 4 5 6 7 8 9 10 11 12 13 14 15 16 17 18 19 20 1 2 3 4 5 6 7 8 9 10 11 12 13 14 15 16 17 18 19 20 1 2 3 4 5 6 7 8 9 10 11 12 13 14 15 16 17 18 19 20 1 2 3 4 5 6 7 8 9 10 11 12 13 14 15 16 17 18 19 20 1 2 3 4 5 6 7 8 9 10 11 12 13 14 15 16 17 18 19 20 1 2 3 4 5 6 7 8 9 10 11 12 13 14 15 16 17 18 19 20</pre><h4>Out</h4><pre>19</pre>"
            ]
          },
          "metadata": {}
        },
        {
          "output_type": "display_data",
          "data": {
            "text/plain": [
              "<IPython.core.display.HTML object>"
            ],
            "text/html": [
              "<h3>Complexity check: N=10000. Should fail O(N^2)</h3><pre>10000 50\n",
              "1 2 3 4 5 6 7 8 9 10 11 12 13 14 15 16 17 18 19 20 21 22 23 24 25 26 27 28 29 30 31 32 33 34 35 36 37 38 39 40 41 42 43 44 45 46 47 48 49 50 51 52 53 54 55 56 57 58 59 60 61 62 63 64 65 66 67 68 69 70 71 72 73 74 75 76 77 78 79 80 81 82 83 84 85 86 87 88 89 90 91 92 93 94 95 96 97 98 99 100 1 2 3 4 5 6 7 8 9 10 11 12 13 14 15 16 17 18 19 20 21 22 23 24 25 26 27 28 29 30 31 32 33 34 35 36 37 38 39 40 41 42 43 44 45 46 47 48 49 50 51 52 53 54 55 56 57 58 59 60 61 62 63 64 65 66 67 68 69 70 71 72 73 74 75 76 77 78 79 80 81 82 83 84 85 86 87 88 89 90 91 92 93 94 95 96 97 98 99 100 1 2 3 4 5 6 7 8 9 10 11 12 13 14 15 16 17 18 19 20 21 22 23 24 25 26 27 28 29 30 31 32 33 34 35 36 37 38 39 40 41 42 43 44 45 46 47 48 49 50 51 52 53 54 55 56 57 58 59 60 61 62 63 64 65 66 67 68 69 70 71 72 73 74 75 76 77 78 79 80 81 82 83 84 85 86 87 88 89 90 91 92 93 94 95 96 97 98 99 100 1 2 3 4 5 6 7 8 9 10 11 12 13 14 15 16 17 18 19 20 21 22 23 24 25 26 27 28 29 30 31 32 33 34 35 36 37 38 39 40 41 42 43 44 45 46 47 48 49 50 51 52 53 54 55 56 57 58 59 60 61 62 63 64 65 66 67 68 69 70 71 72 73 74 75 76 77 78 79 80 81 82 83 84 85 86 87 88 89 90 91 92 93 94 95 96 97 98 99 100 1 2 3 4 5 6 7 8 9 10 11 12 13 14 15 16 17 18 19 20 21 22 23 24 25 26 27 28 29 30 31 32 33 34 35 36 37 38 39 40 41 42 43 44 45 46 47 48 49 50 51 52 53 54 55 56 57 58 59 60 61 62 63 64 65 66 67 68 69 70 71 72 73 74 75 76 77 78 79 80 81 82 83 84 85 86 87 88 89 90 91 92 93 94 95 96 97 98 99 100 ... (Sequence 1..100 repeated 100 times)</pre><h4>Out</h4><pre>99</pre>"
            ]
          },
          "metadata": {}
        },
        {
          "output_type": "display_data",
          "data": {
            "text/plain": [
              "<IPython.core.display.HTML object>"
            ],
            "text/html": [
              "<h3>Complexity check: N=200000. Should only allow O(N)</h3><pre>200000 1000\n",
              "1 2 3 4 5 6 7 8 9 10 11 12 13 14 15 16 17 18 19 20 21 22 23 24 25 26 27 28 29 30 31 32 33 34 35 36 37 38 39 40 41 42 43 44 45 46 47 48 49 50 51 52 53 54 55 56 57 58 59 60 61 62 63 64 65 66 67 68 69 70 71 72 73 74 75 76 77 78 79 80 81 82 83 84 85 86 87 88 89 90 91 92 93 94 95 96 97 98 99 100 101 102 103 104 105 106 107 108 109 110 111 112 113 114 115 116 117 118 119 120 121 122 123 124 125 126 127 128 129 130 131 132 133 134 135 136 137 138 139 140 141 142 143 144 145 146 147 148 149 150 151 152 153 154 155 156 157 158 159 160 161 162 163 164 165 166 167 168 169 170 171 172 173 174 175 176 177 178 179 180 181 182 183 184 185 186 187 188 189 190 191 192 193 194 195 196 197 198 199 200 ... (Sequence (i % 10000) + 1 for i in range 200000)</pre><h4>Out</h4><pre>1999</pre>"
            ]
          },
          "metadata": {}
        },
        {
          "output_type": "display_data",
          "data": {
            "text/plain": [
              "<IPython.core.display.HTML object>"
            ],
            "text/html": [
              "<h3>Complexity check: N=200000, different pattern</h3><pre>200000 50000\n",
              "1 1 1 1 2 2 2 2 3 3 3 3 4 4 4 4 5 5 5 5 6 6 6 6 7 7 7 7 8 8 8 8 9 9 9 9 10 10 10 10 11 11 11 11 12 12 12 12 13 13 13 13 14 14 14 14 15 15 15 15 16 16 16 16 17 17 17 17 18 18 18 18 19 19 19 19 20 20 20 20 21 21 21 21 22 22 22 22 23 23 23 23 24 24 24 24 25 25 25 25 26 26 26 26 27 27 27 27 28 28 28 28 29 29 29 29 30 30 30 30 31 31 31 31 32 32 32 32 33 33 33 33 34 34 34 34 35 35 35 35 36 36 36 36 37 37 37 37 38 38 38 38 39 39 39 39 40 40 40 40 41 41 41 41 42 42 42 42 43 43 43 43 44 44 44 44 45 45 45 45 46 46 46 46 47 47 47 47 48 48 48 48 49 49 49 49 50 50 50 50 ... (Sequence 1..50000, each repeated 4 times)</pre><h4>Out</h4><pre>200000</pre>"
            ]
          },
          "metadata": {}
        }
      ]
    },
    {
      "cell_type": "markdown",
      "source": [
        "## Test sample solutions"
      ],
      "metadata": {
        "id": "XYMVG8t_1jFN"
      }
    },
    {
      "cell_type": "code",
      "source": [
        "#@title Testing code\n",
        "import textwrap\n",
        "\n",
        "def test_solution(sol, inp):\n",
        "  try:\n",
        "    with open(\"/tmp/sol.py\", \"w\") as f:\n",
        "      f.write(sol)\n",
        "    with open(\"/tmp/test.in\", \"w\") as f:\n",
        "      f.write(inp)\n",
        "    !cat /tmp/test.in | python /tmp/sol.py > /tmp/test.out\n",
        "    with open(\"/tmp/test.out\") as f:\n",
        "      return f.read().strip()\n",
        "  except:\n",
        "    return \"Failed\"\n",
        "\n",
        "def eval_solution(sol_cmt, sol, tests):\n",
        "  display.display(display.HTML(f\"<h2>Testing solution: {sol_cmt}</h2>\"))\n",
        "  sol = sol.strip().replace(\"```python\", \"\").replace(\"```\", \"\")\n",
        "  sol = textwrap.dedent(sol)\n",
        "  # Fix commented out part in second solution.\n",
        "  sol = sol.replace(\"# solve_fw\", \"solve_fw\")\n",
        "  table = [\"<table><tr><th>Test</th><th>Input</th><th>Exp. out</th><th>Act. out</th></tr>\"]\n",
        "  for cmt, inp, out in tests:\n",
        "    test_out = test_solution(sol, inp)\n",
        "    table.append(f\"<tr style='background-color: {'lightgreen' if out == test_out else '#ffaaaa'}'><td>{cmt}</td><td>{inp}</td><td>{out}</td><td>{test_out}</td></tr>\")\n",
        "  table.append(\"</table>\")\n",
        "  display.display(display.HTML(\"\".join(table)))\n",
        "\n",
        "for sol_cmt, sol in solutions:\n",
        "  eval_solution(sol_cmt, sol, tests)"
      ],
      "metadata": {
        "colab": {
          "base_uri": "https://localhost:8080/",
          "height": 1000
        },
        "cellView": "form",
        "id": "g5N3J16K1kZs",
        "outputId": "b63f48ca-7a2c-4042-b9d3-e1cbd30cb5ae"
      },
      "execution_count": null,
      "outputs": [
        {
          "output_type": "display_data",
          "data": {
            "text/plain": [
              "<IPython.core.display.HTML object>"
            ],
            "text/html": [
              "<h2>Testing solution: O(N)</h2>"
            ]
          },
          "metadata": {}
        },
        {
          "output_type": "stream",
          "name": "stdout",
          "text": [
            "Traceback (most recent call last):\n",
            "  File \"/tmp/sol.py\", line 31, in <module>\n",
            "    solve()\n",
            "  File \"/tmp/sol.py\", line 16, in solve\n",
            "    counts[a[right]] = counts.get(a[right], 0) + 1\n",
            "                                  ~^^^^^^^\n",
            "IndexError: list index out of range\n",
            "Traceback (most recent call last):\n",
            "  File \"/tmp/sol.py\", line 31, in <module>\n",
            "    solve()\n",
            "  File \"/tmp/sol.py\", line 9, in solve\n",
            "    a = list(map(int, sys.stdin.readline().split()))\n",
            "        ^^^^^^^^^^^^^^^^^^^^^^^^^^^^^^^^^^^^^^^^^^^^\n",
            "ValueError: invalid literal for int() with base 10: '...'\n",
            "Traceback (most recent call last):\n",
            "  File \"/tmp/sol.py\", line 31, in <module>\n",
            "    solve()\n",
            "  File \"/tmp/sol.py\", line 9, in solve\n",
            "    a = list(map(int, sys.stdin.readline().split()))\n",
            "        ^^^^^^^^^^^^^^^^^^^^^^^^^^^^^^^^^^^^^^^^^^^^\n",
            "ValueError: invalid literal for int() with base 10: '...'\n",
            "Traceback (most recent call last):\n",
            "  File \"/tmp/sol.py\", line 31, in <module>\n",
            "    solve()\n",
            "  File \"/tmp/sol.py\", line 9, in solve\n",
            "    a = list(map(int, sys.stdin.readline().split()))\n",
            "        ^^^^^^^^^^^^^^^^^^^^^^^^^^^^^^^^^^^^^^^^^^^^\n",
            "ValueError: invalid literal for int() with base 10: '...'\n"
          ]
        },
        {
          "output_type": "display_data",
          "data": {
            "text/plain": [
              "<IPython.core.display.HTML object>"
            ],
            "text/html": [
              "<table><tr><th>Test</th><th>Input</th><th>Exp. out</th><th>Act. out</th></tr><tr style='background-color: lightgreen'><td>Example 1 from statement</td><td>7 2\n",
              "1 2 1 3 1 2 4</td><td>3</td><td>3</td></tr><tr style='background-color: #ffaaaa'><td>Example 2 from statement</td><td>10 3\n",
              "1 2 3 4 1 2 3 1 2 1</td><td>5</td><td>6</td></tr><tr style='background-color: lightgreen'><td>Example 3 from statement</td><td>5 5\n",
              "-10 20 -10 30 20</td><td>5</td><td>5</td></tr><tr style='background-color: lightgreen'><td>Corner Case: K=0</td><td>5 0\n",
              "1 2 1 3 2</td><td>0</td><td>0</td></tr><tr style='background-color: lightgreen'><td>Corner Case: K=0, N=0</td><td>0 0</td><td>0</td><td>0</td></tr><tr style='background-color: lightgreen'><td>Corner Case: N=0</td><td>0 5</td><td>0</td><td>0</td></tr><tr style='background-color: lightgreen'><td>Corner Case: K is large enough</td><td>5 10\n",
              "1 2 1 3 2</td><td>5</td><td>5</td></tr><tr style='background-color: lightgreen'><td>Corner Case: All elements are the same, K=1</td><td>10 1\n",
              "5 5 5 5 5 5 5 5 5 5</td><td>10</td><td>10</td></tr><tr style='background-color: lightgreen'><td>Corner Case: All elements are the same, K > 1</td><td>10 3\n",
              "5 5 5 5 5 5 5 5 5 5</td><td>10</td><td>10</td></tr><tr style='background-color: lightgreen'><td>Corner Case: All elements are distinct</td><td>10 3\n",
              "1 2 3 4 5 6 7 8 9 10</td><td>3</td><td>3</td></tr><tr style='background-color: lightgreen'><td>Corner Case: All elements distinct, K >= N</td><td>10 10\n",
              "1 2 3 4 5 6 7 8 9 10</td><td>10</td><td>10</td></tr><tr style='background-color: lightgreen'><td>Corner Case: Negative and large numbers</td><td>8 3\n",
              "1000 -200 1000 30 -200 30 1000 5</td><td>7</td><td>7</td></tr><tr style='background-color: lightgreen'><td>Small test case from analysis</td><td>10 2\n",
              "1 2 3 1 2 3 1 2 3 1</td><td>2</td><td>2</td></tr><tr style='background-color: #ffaaaa'><td>Complexity check: N=500. Should fail O(N^3)</td><td>500 10\n",
              "1 2 3 4 5 6 7 8 9 10 11 12 13 14 15 16 17 18 19 20 1 2 3 4 5 6 7 8 9 10 11 12 13 14 15 16 17 18 19 20 1 2 3 4 5 6 7 8 9 10 11 12 13 14 15 16 17 18 19 20 1 2 3 4 5 6 7 8 9 10 11 12 13 14 15 16 17 18 19 20 1 2 3 4 5 6 7 8 9 10 11 12 13 14 15 16 17 18 19 20 1 2 3 4 5 6 7 8 9 10 11 12 13 14 15 16 17 18 19 20 1 2 3 4 5 6 7 8 9 10 11 12 13 14 15 16 17 18 19 20 1 2 3 4 5 6 7 8 9 10 11 12 13 14 15 16 17 18 19 20 1 2 3 4 5 6 7 8 9 10 11 12 13 14 15 16 17 18 19 20 1 2 3 4 5 6 7 8 9 10 11 12 13 14 15 16 17 18 19 20 1 2 3 4 5 6 7 8 9 10 11 12 13 14 15 16 17 18 19 20 1 2 3 4 5 6 7 8 9 10 11 12 13 14 15 16 17 18 19 20 1 2 3 4 5 6 7 8 9 10 11 12 13 14 15 16 17 18 19 20 1 2 3 4 5 6 7 8 9 10 11 12 13 14 15 16 17 18 19 20 1 2 3 4 5 6 7 8 9 10 11 12 13 14 15 16 17 18 19 20 1 2 3 4 5 6 7 8 9 10 11 12 13 14 15 16 17 18 19 20 1 2 3 4 5 6 7 8 9 10 11 12 13 14 15 16 17 18 19 20 1 2 3 4 5 6 7 8 9 10 11 12 13 14 15 16 17 18 19 20 1 2 3 4 5 6 7 8 9 10 11 12 13 14 15 16 17 18 19 20 1 2 3 4 5 6 7 8 9 10 11 12 13 14 15 16 17 18 19 20 1 2 3 4 5 6 7 8 9 10 11 12 13 14 15 16 17 18 19 20 1 2 3 4 5 6 7 8 9 10 11 12 13 14 15 16 17 18 19 20 1 2 3 4 5 6 7 8 9 10 11 12 13 14 15 16 17 18 19 20 1 2 3 4 5 6 7 8 9 10 11 12 13 14 15 16 17 18 19 20</td><td>19</td><td></td></tr><tr style='background-color: #ffaaaa'><td>Complexity check: N=10000. Should fail O(N^2)</td><td>10000 50\n",
              "1 2 3 4 5 6 7 8 9 10 11 12 13 14 15 16 17 18 19 20 21 22 23 24 25 26 27 28 29 30 31 32 33 34 35 36 37 38 39 40 41 42 43 44 45 46 47 48 49 50 51 52 53 54 55 56 57 58 59 60 61 62 63 64 65 66 67 68 69 70 71 72 73 74 75 76 77 78 79 80 81 82 83 84 85 86 87 88 89 90 91 92 93 94 95 96 97 98 99 100 1 2 3 4 5 6 7 8 9 10 11 12 13 14 15 16 17 18 19 20 21 22 23 24 25 26 27 28 29 30 31 32 33 34 35 36 37 38 39 40 41 42 43 44 45 46 47 48 49 50 51 52 53 54 55 56 57 58 59 60 61 62 63 64 65 66 67 68 69 70 71 72 73 74 75 76 77 78 79 80 81 82 83 84 85 86 87 88 89 90 91 92 93 94 95 96 97 98 99 100 1 2 3 4 5 6 7 8 9 10 11 12 13 14 15 16 17 18 19 20 21 22 23 24 25 26 27 28 29 30 31 32 33 34 35 36 37 38 39 40 41 42 43 44 45 46 47 48 49 50 51 52 53 54 55 56 57 58 59 60 61 62 63 64 65 66 67 68 69 70 71 72 73 74 75 76 77 78 79 80 81 82 83 84 85 86 87 88 89 90 91 92 93 94 95 96 97 98 99 100 1 2 3 4 5 6 7 8 9 10 11 12 13 14 15 16 17 18 19 20 21 22 23 24 25 26 27 28 29 30 31 32 33 34 35 36 37 38 39 40 41 42 43 44 45 46 47 48 49 50 51 52 53 54 55 56 57 58 59 60 61 62 63 64 65 66 67 68 69 70 71 72 73 74 75 76 77 78 79 80 81 82 83 84 85 86 87 88 89 90 91 92 93 94 95 96 97 98 99 100 1 2 3 4 5 6 7 8 9 10 11 12 13 14 15 16 17 18 19 20 21 22 23 24 25 26 27 28 29 30 31 32 33 34 35 36 37 38 39 40 41 42 43 44 45 46 47 48 49 50 51 52 53 54 55 56 57 58 59 60 61 62 63 64 65 66 67 68 69 70 71 72 73 74 75 76 77 78 79 80 81 82 83 84 85 86 87 88 89 90 91 92 93 94 95 96 97 98 99 100 ... (Sequence 1..100 repeated 100 times)</td><td>99</td><td></td></tr><tr style='background-color: #ffaaaa'><td>Complexity check: N=200000. Should only allow O(N)</td><td>200000 1000\n",
              "1 2 3 4 5 6 7 8 9 10 11 12 13 14 15 16 17 18 19 20 21 22 23 24 25 26 27 28 29 30 31 32 33 34 35 36 37 38 39 40 41 42 43 44 45 46 47 48 49 50 51 52 53 54 55 56 57 58 59 60 61 62 63 64 65 66 67 68 69 70 71 72 73 74 75 76 77 78 79 80 81 82 83 84 85 86 87 88 89 90 91 92 93 94 95 96 97 98 99 100 101 102 103 104 105 106 107 108 109 110 111 112 113 114 115 116 117 118 119 120 121 122 123 124 125 126 127 128 129 130 131 132 133 134 135 136 137 138 139 140 141 142 143 144 145 146 147 148 149 150 151 152 153 154 155 156 157 158 159 160 161 162 163 164 165 166 167 168 169 170 171 172 173 174 175 176 177 178 179 180 181 182 183 184 185 186 187 188 189 190 191 192 193 194 195 196 197 198 199 200 ... (Sequence (i % 10000) + 1 for i in range 200000)</td><td>1999</td><td></td></tr><tr style='background-color: #ffaaaa'><td>Complexity check: N=200000, different pattern</td><td>200000 50000\n",
              "1 1 1 1 2 2 2 2 3 3 3 3 4 4 4 4 5 5 5 5 6 6 6 6 7 7 7 7 8 8 8 8 9 9 9 9 10 10 10 10 11 11 11 11 12 12 12 12 13 13 13 13 14 14 14 14 15 15 15 15 16 16 16 16 17 17 17 17 18 18 18 18 19 19 19 19 20 20 20 20 21 21 21 21 22 22 22 22 23 23 23 23 24 24 24 24 25 25 25 25 26 26 26 26 27 27 27 27 28 28 28 28 29 29 29 29 30 30 30 30 31 31 31 31 32 32 32 32 33 33 33 33 34 34 34 34 35 35 35 35 36 36 36 36 37 37 37 37 38 38 38 38 39 39 39 39 40 40 40 40 41 41 41 41 42 42 42 42 43 43 43 43 44 44 44 44 45 45 45 45 46 46 46 46 47 47 47 47 48 48 48 48 49 49 49 49 50 50 50 50 ... (Sequence 1..50000, each repeated 4 times)</td><td>200000</td><td></td></tr></table>"
            ]
          },
          "metadata": {}
        },
        {
          "output_type": "display_data",
          "data": {
            "text/plain": [
              "<IPython.core.display.HTML object>"
            ],
            "text/html": [
              "<h2>Testing solution: O(N^2)</h2>"
            ]
          },
          "metadata": {}
        },
        {
          "output_type": "stream",
          "name": "stdout",
          "text": [
            "Traceback (most recent call last):\n",
            "  File \"/tmp/sol.py\", line 24, in <module>\n",
            "    solve()\n",
            "  File \"/tmp/sol.py\", line 15, in solve\n",
            "    distinct_elements.add(a[j])\n",
            "                          ~^^^\n",
            "IndexError: list index out of range\n",
            "Traceback (most recent call last):\n",
            "  File \"/tmp/sol.py\", line 24, in <module>\n",
            "    solve()\n",
            "  File \"/tmp/sol.py\", line 9, in solve\n",
            "    a = list(map(int, sys.stdin.readline().split()))\n",
            "        ^^^^^^^^^^^^^^^^^^^^^^^^^^^^^^^^^^^^^^^^^^^^\n",
            "ValueError: invalid literal for int() with base 10: '...'\n",
            "Traceback (most recent call last):\n",
            "  File \"/tmp/sol.py\", line 24, in <module>\n",
            "    solve()\n",
            "  File \"/tmp/sol.py\", line 9, in solve\n",
            "    a = list(map(int, sys.stdin.readline().split()))\n",
            "        ^^^^^^^^^^^^^^^^^^^^^^^^^^^^^^^^^^^^^^^^^^^^\n",
            "ValueError: invalid literal for int() with base 10: '...'\n",
            "Traceback (most recent call last):\n",
            "  File \"/tmp/sol.py\", line 24, in <module>\n",
            "    solve()\n",
            "  File \"/tmp/sol.py\", line 9, in solve\n",
            "    a = list(map(int, sys.stdin.readline().split()))\n",
            "        ^^^^^^^^^^^^^^^^^^^^^^^^^^^^^^^^^^^^^^^^^^^^\n",
            "ValueError: invalid literal for int() with base 10: '...'\n"
          ]
        },
        {
          "output_type": "display_data",
          "data": {
            "text/plain": [
              "<IPython.core.display.HTML object>"
            ],
            "text/html": [
              "<table><tr><th>Test</th><th>Input</th><th>Exp. out</th><th>Act. out</th></tr><tr style='background-color: lightgreen'><td>Example 1 from statement</td><td>7 2\n",
              "1 2 1 3 1 2 4</td><td>3</td><td>3</td></tr><tr style='background-color: #ffaaaa'><td>Example 2 from statement</td><td>10 3\n",
              "1 2 3 4 1 2 3 1 2 1</td><td>5</td><td>6</td></tr><tr style='background-color: lightgreen'><td>Example 3 from statement</td><td>5 5\n",
              "-10 20 -10 30 20</td><td>5</td><td>5</td></tr><tr style='background-color: lightgreen'><td>Corner Case: K=0</td><td>5 0\n",
              "1 2 1 3 2</td><td>0</td><td>0</td></tr><tr style='background-color: lightgreen'><td>Corner Case: K=0, N=0</td><td>0 0</td><td>0</td><td>0</td></tr><tr style='background-color: lightgreen'><td>Corner Case: N=0</td><td>0 5</td><td>0</td><td>0</td></tr><tr style='background-color: lightgreen'><td>Corner Case: K is large enough</td><td>5 10\n",
              "1 2 1 3 2</td><td>5</td><td>5</td></tr><tr style='background-color: lightgreen'><td>Corner Case: All elements are the same, K=1</td><td>10 1\n",
              "5 5 5 5 5 5 5 5 5 5</td><td>10</td><td>10</td></tr><tr style='background-color: lightgreen'><td>Corner Case: All elements are the same, K > 1</td><td>10 3\n",
              "5 5 5 5 5 5 5 5 5 5</td><td>10</td><td>10</td></tr><tr style='background-color: lightgreen'><td>Corner Case: All elements are distinct</td><td>10 3\n",
              "1 2 3 4 5 6 7 8 9 10</td><td>3</td><td>3</td></tr><tr style='background-color: lightgreen'><td>Corner Case: All elements distinct, K >= N</td><td>10 10\n",
              "1 2 3 4 5 6 7 8 9 10</td><td>10</td><td>10</td></tr><tr style='background-color: lightgreen'><td>Corner Case: Negative and large numbers</td><td>8 3\n",
              "1000 -200 1000 30 -200 30 1000 5</td><td>7</td><td>7</td></tr><tr style='background-color: lightgreen'><td>Small test case from analysis</td><td>10 2\n",
              "1 2 3 1 2 3 1 2 3 1</td><td>2</td><td>2</td></tr><tr style='background-color: #ffaaaa'><td>Complexity check: N=500. Should fail O(N^3)</td><td>500 10\n",
              "1 2 3 4 5 6 7 8 9 10 11 12 13 14 15 16 17 18 19 20 1 2 3 4 5 6 7 8 9 10 11 12 13 14 15 16 17 18 19 20 1 2 3 4 5 6 7 8 9 10 11 12 13 14 15 16 17 18 19 20 1 2 3 4 5 6 7 8 9 10 11 12 13 14 15 16 17 18 19 20 1 2 3 4 5 6 7 8 9 10 11 12 13 14 15 16 17 18 19 20 1 2 3 4 5 6 7 8 9 10 11 12 13 14 15 16 17 18 19 20 1 2 3 4 5 6 7 8 9 10 11 12 13 14 15 16 17 18 19 20 1 2 3 4 5 6 7 8 9 10 11 12 13 14 15 16 17 18 19 20 1 2 3 4 5 6 7 8 9 10 11 12 13 14 15 16 17 18 19 20 1 2 3 4 5 6 7 8 9 10 11 12 13 14 15 16 17 18 19 20 1 2 3 4 5 6 7 8 9 10 11 12 13 14 15 16 17 18 19 20 1 2 3 4 5 6 7 8 9 10 11 12 13 14 15 16 17 18 19 20 1 2 3 4 5 6 7 8 9 10 11 12 13 14 15 16 17 18 19 20 1 2 3 4 5 6 7 8 9 10 11 12 13 14 15 16 17 18 19 20 1 2 3 4 5 6 7 8 9 10 11 12 13 14 15 16 17 18 19 20 1 2 3 4 5 6 7 8 9 10 11 12 13 14 15 16 17 18 19 20 1 2 3 4 5 6 7 8 9 10 11 12 13 14 15 16 17 18 19 20 1 2 3 4 5 6 7 8 9 10 11 12 13 14 15 16 17 18 19 20 1 2 3 4 5 6 7 8 9 10 11 12 13 14 15 16 17 18 19 20 1 2 3 4 5 6 7 8 9 10 11 12 13 14 15 16 17 18 19 20 1 2 3 4 5 6 7 8 9 10 11 12 13 14 15 16 17 18 19 20 1 2 3 4 5 6 7 8 9 10 11 12 13 14 15 16 17 18 19 20 1 2 3 4 5 6 7 8 9 10 11 12 13 14 15 16 17 18 19 20 1 2 3 4 5 6 7 8 9 10 11 12 13 14 15 16 17 18 19 20</td><td>19</td><td></td></tr><tr style='background-color: #ffaaaa'><td>Complexity check: N=10000. Should fail O(N^2)</td><td>10000 50\n",
              "1 2 3 4 5 6 7 8 9 10 11 12 13 14 15 16 17 18 19 20 21 22 23 24 25 26 27 28 29 30 31 32 33 34 35 36 37 38 39 40 41 42 43 44 45 46 47 48 49 50 51 52 53 54 55 56 57 58 59 60 61 62 63 64 65 66 67 68 69 70 71 72 73 74 75 76 77 78 79 80 81 82 83 84 85 86 87 88 89 90 91 92 93 94 95 96 97 98 99 100 1 2 3 4 5 6 7 8 9 10 11 12 13 14 15 16 17 18 19 20 21 22 23 24 25 26 27 28 29 30 31 32 33 34 35 36 37 38 39 40 41 42 43 44 45 46 47 48 49 50 51 52 53 54 55 56 57 58 59 60 61 62 63 64 65 66 67 68 69 70 71 72 73 74 75 76 77 78 79 80 81 82 83 84 85 86 87 88 89 90 91 92 93 94 95 96 97 98 99 100 1 2 3 4 5 6 7 8 9 10 11 12 13 14 15 16 17 18 19 20 21 22 23 24 25 26 27 28 29 30 31 32 33 34 35 36 37 38 39 40 41 42 43 44 45 46 47 48 49 50 51 52 53 54 55 56 57 58 59 60 61 62 63 64 65 66 67 68 69 70 71 72 73 74 75 76 77 78 79 80 81 82 83 84 85 86 87 88 89 90 91 92 93 94 95 96 97 98 99 100 1 2 3 4 5 6 7 8 9 10 11 12 13 14 15 16 17 18 19 20 21 22 23 24 25 26 27 28 29 30 31 32 33 34 35 36 37 38 39 40 41 42 43 44 45 46 47 48 49 50 51 52 53 54 55 56 57 58 59 60 61 62 63 64 65 66 67 68 69 70 71 72 73 74 75 76 77 78 79 80 81 82 83 84 85 86 87 88 89 90 91 92 93 94 95 96 97 98 99 100 1 2 3 4 5 6 7 8 9 10 11 12 13 14 15 16 17 18 19 20 21 22 23 24 25 26 27 28 29 30 31 32 33 34 35 36 37 38 39 40 41 42 43 44 45 46 47 48 49 50 51 52 53 54 55 56 57 58 59 60 61 62 63 64 65 66 67 68 69 70 71 72 73 74 75 76 77 78 79 80 81 82 83 84 85 86 87 88 89 90 91 92 93 94 95 96 97 98 99 100 ... (Sequence 1..100 repeated 100 times)</td><td>99</td><td></td></tr><tr style='background-color: #ffaaaa'><td>Complexity check: N=200000. Should only allow O(N)</td><td>200000 1000\n",
              "1 2 3 4 5 6 7 8 9 10 11 12 13 14 15 16 17 18 19 20 21 22 23 24 25 26 27 28 29 30 31 32 33 34 35 36 37 38 39 40 41 42 43 44 45 46 47 48 49 50 51 52 53 54 55 56 57 58 59 60 61 62 63 64 65 66 67 68 69 70 71 72 73 74 75 76 77 78 79 80 81 82 83 84 85 86 87 88 89 90 91 92 93 94 95 96 97 98 99 100 101 102 103 104 105 106 107 108 109 110 111 112 113 114 115 116 117 118 119 120 121 122 123 124 125 126 127 128 129 130 131 132 133 134 135 136 137 138 139 140 141 142 143 144 145 146 147 148 149 150 151 152 153 154 155 156 157 158 159 160 161 162 163 164 165 166 167 168 169 170 171 172 173 174 175 176 177 178 179 180 181 182 183 184 185 186 187 188 189 190 191 192 193 194 195 196 197 198 199 200 ... (Sequence (i % 10000) + 1 for i in range 200000)</td><td>1999</td><td></td></tr><tr style='background-color: #ffaaaa'><td>Complexity check: N=200000, different pattern</td><td>200000 50000\n",
              "1 1 1 1 2 2 2 2 3 3 3 3 4 4 4 4 5 5 5 5 6 6 6 6 7 7 7 7 8 8 8 8 9 9 9 9 10 10 10 10 11 11 11 11 12 12 12 12 13 13 13 13 14 14 14 14 15 15 15 15 16 16 16 16 17 17 17 17 18 18 18 18 19 19 19 19 20 20 20 20 21 21 21 21 22 22 22 22 23 23 23 23 24 24 24 24 25 25 25 25 26 26 26 26 27 27 27 27 28 28 28 28 29 29 29 29 30 30 30 30 31 31 31 31 32 32 32 32 33 33 33 33 34 34 34 34 35 35 35 35 36 36 36 36 37 37 37 37 38 38 38 38 39 39 39 39 40 40 40 40 41 41 41 41 42 42 42 42 43 43 43 43 44 44 44 44 45 45 45 45 46 46 46 46 47 47 47 47 48 48 48 48 49 49 49 49 50 50 50 50 ... (Sequence 1..50000, each repeated 4 times)</td><td>200000</td><td></td></tr></table>"
            ]
          },
          "metadata": {}
        },
        {
          "output_type": "display_data",
          "data": {
            "text/plain": [
              "<IPython.core.display.HTML object>"
            ],
            "text/html": [
              "<h2>Testing solution: O(N^3)</h2>"
            ]
          },
          "metadata": {}
        },
        {
          "output_type": "stream",
          "name": "stdout",
          "text": [
            "Traceback (most recent call last):\n",
            "  File \"/tmp/sol.py\", line 22, in <module>\n",
            "    solve()\n",
            "  File \"/tmp/sol.py\", line 9, in solve\n",
            "    a = list(map(int, sys.stdin.readline().split()))\n",
            "        ^^^^^^^^^^^^^^^^^^^^^^^^^^^^^^^^^^^^^^^^^^^^\n",
            "ValueError: invalid literal for int() with base 10: '...'\n",
            "Traceback (most recent call last):\n",
            "  File \"/tmp/sol.py\", line 22, in <module>\n",
            "    solve()\n",
            "  File \"/tmp/sol.py\", line 9, in solve\n",
            "    a = list(map(int, sys.stdin.readline().split()))\n",
            "        ^^^^^^^^^^^^^^^^^^^^^^^^^^^^^^^^^^^^^^^^^^^^\n",
            "ValueError: invalid literal for int() with base 10: '...'\n",
            "Traceback (most recent call last):\n",
            "  File \"/tmp/sol.py\", line 22, in <module>\n",
            "    solve()\n",
            "  File \"/tmp/sol.py\", line 9, in solve\n",
            "    a = list(map(int, sys.stdin.readline().split()))\n",
            "        ^^^^^^^^^^^^^^^^^^^^^^^^^^^^^^^^^^^^^^^^^^^^\n",
            "ValueError: invalid literal for int() with base 10: '...'\n"
          ]
        },
        {
          "output_type": "display_data",
          "data": {
            "text/plain": [
              "<IPython.core.display.HTML object>"
            ],
            "text/html": [
              "<table><tr><th>Test</th><th>Input</th><th>Exp. out</th><th>Act. out</th></tr><tr style='background-color: lightgreen'><td>Example 1 from statement</td><td>7 2\n",
              "1 2 1 3 1 2 4</td><td>3</td><td>3</td></tr><tr style='background-color: #ffaaaa'><td>Example 2 from statement</td><td>10 3\n",
              "1 2 3 4 1 2 3 1 2 1</td><td>5</td><td>6</td></tr><tr style='background-color: lightgreen'><td>Example 3 from statement</td><td>5 5\n",
              "-10 20 -10 30 20</td><td>5</td><td>5</td></tr><tr style='background-color: lightgreen'><td>Corner Case: K=0</td><td>5 0\n",
              "1 2 1 3 2</td><td>0</td><td>0</td></tr><tr style='background-color: lightgreen'><td>Corner Case: K=0, N=0</td><td>0 0</td><td>0</td><td>0</td></tr><tr style='background-color: lightgreen'><td>Corner Case: N=0</td><td>0 5</td><td>0</td><td>0</td></tr><tr style='background-color: lightgreen'><td>Corner Case: K is large enough</td><td>5 10\n",
              "1 2 1 3 2</td><td>5</td><td>5</td></tr><tr style='background-color: lightgreen'><td>Corner Case: All elements are the same, K=1</td><td>10 1\n",
              "5 5 5 5 5 5 5 5 5 5</td><td>10</td><td>10</td></tr><tr style='background-color: lightgreen'><td>Corner Case: All elements are the same, K > 1</td><td>10 3\n",
              "5 5 5 5 5 5 5 5 5 5</td><td>10</td><td>10</td></tr><tr style='background-color: lightgreen'><td>Corner Case: All elements are distinct</td><td>10 3\n",
              "1 2 3 4 5 6 7 8 9 10</td><td>3</td><td>3</td></tr><tr style='background-color: lightgreen'><td>Corner Case: All elements distinct, K >= N</td><td>10 10\n",
              "1 2 3 4 5 6 7 8 9 10</td><td>10</td><td>10</td></tr><tr style='background-color: lightgreen'><td>Corner Case: Negative and large numbers</td><td>8 3\n",
              "1000 -200 1000 30 -200 30 1000 5</td><td>7</td><td>7</td></tr><tr style='background-color: lightgreen'><td>Small test case from analysis</td><td>10 2\n",
              "1 2 3 1 2 3 1 2 3 1</td><td>2</td><td>2</td></tr><tr style='background-color: #ffaaaa'><td>Complexity check: N=500. Should fail O(N^3)</td><td>500 10\n",
              "1 2 3 4 5 6 7 8 9 10 11 12 13 14 15 16 17 18 19 20 1 2 3 4 5 6 7 8 9 10 11 12 13 14 15 16 17 18 19 20 1 2 3 4 5 6 7 8 9 10 11 12 13 14 15 16 17 18 19 20 1 2 3 4 5 6 7 8 9 10 11 12 13 14 15 16 17 18 19 20 1 2 3 4 5 6 7 8 9 10 11 12 13 14 15 16 17 18 19 20 1 2 3 4 5 6 7 8 9 10 11 12 13 14 15 16 17 18 19 20 1 2 3 4 5 6 7 8 9 10 11 12 13 14 15 16 17 18 19 20 1 2 3 4 5 6 7 8 9 10 11 12 13 14 15 16 17 18 19 20 1 2 3 4 5 6 7 8 9 10 11 12 13 14 15 16 17 18 19 20 1 2 3 4 5 6 7 8 9 10 11 12 13 14 15 16 17 18 19 20 1 2 3 4 5 6 7 8 9 10 11 12 13 14 15 16 17 18 19 20 1 2 3 4 5 6 7 8 9 10 11 12 13 14 15 16 17 18 19 20 1 2 3 4 5 6 7 8 9 10 11 12 13 14 15 16 17 18 19 20 1 2 3 4 5 6 7 8 9 10 11 12 13 14 15 16 17 18 19 20 1 2 3 4 5 6 7 8 9 10 11 12 13 14 15 16 17 18 19 20 1 2 3 4 5 6 7 8 9 10 11 12 13 14 15 16 17 18 19 20 1 2 3 4 5 6 7 8 9 10 11 12 13 14 15 16 17 18 19 20 1 2 3 4 5 6 7 8 9 10 11 12 13 14 15 16 17 18 19 20 1 2 3 4 5 6 7 8 9 10 11 12 13 14 15 16 17 18 19 20 1 2 3 4 5 6 7 8 9 10 11 12 13 14 15 16 17 18 19 20 1 2 3 4 5 6 7 8 9 10 11 12 13 14 15 16 17 18 19 20 1 2 3 4 5 6 7 8 9 10 11 12 13 14 15 16 17 18 19 20 1 2 3 4 5 6 7 8 9 10 11 12 13 14 15 16 17 18 19 20 1 2 3 4 5 6 7 8 9 10 11 12 13 14 15 16 17 18 19 20</td><td>19</td><td>10</td></tr><tr style='background-color: #ffaaaa'><td>Complexity check: N=10000. Should fail O(N^2)</td><td>10000 50\n",
              "1 2 3 4 5 6 7 8 9 10 11 12 13 14 15 16 17 18 19 20 21 22 23 24 25 26 27 28 29 30 31 32 33 34 35 36 37 38 39 40 41 42 43 44 45 46 47 48 49 50 51 52 53 54 55 56 57 58 59 60 61 62 63 64 65 66 67 68 69 70 71 72 73 74 75 76 77 78 79 80 81 82 83 84 85 86 87 88 89 90 91 92 93 94 95 96 97 98 99 100 1 2 3 4 5 6 7 8 9 10 11 12 13 14 15 16 17 18 19 20 21 22 23 24 25 26 27 28 29 30 31 32 33 34 35 36 37 38 39 40 41 42 43 44 45 46 47 48 49 50 51 52 53 54 55 56 57 58 59 60 61 62 63 64 65 66 67 68 69 70 71 72 73 74 75 76 77 78 79 80 81 82 83 84 85 86 87 88 89 90 91 92 93 94 95 96 97 98 99 100 1 2 3 4 5 6 7 8 9 10 11 12 13 14 15 16 17 18 19 20 21 22 23 24 25 26 27 28 29 30 31 32 33 34 35 36 37 38 39 40 41 42 43 44 45 46 47 48 49 50 51 52 53 54 55 56 57 58 59 60 61 62 63 64 65 66 67 68 69 70 71 72 73 74 75 76 77 78 79 80 81 82 83 84 85 86 87 88 89 90 91 92 93 94 95 96 97 98 99 100 1 2 3 4 5 6 7 8 9 10 11 12 13 14 15 16 17 18 19 20 21 22 23 24 25 26 27 28 29 30 31 32 33 34 35 36 37 38 39 40 41 42 43 44 45 46 47 48 49 50 51 52 53 54 55 56 57 58 59 60 61 62 63 64 65 66 67 68 69 70 71 72 73 74 75 76 77 78 79 80 81 82 83 84 85 86 87 88 89 90 91 92 93 94 95 96 97 98 99 100 1 2 3 4 5 6 7 8 9 10 11 12 13 14 15 16 17 18 19 20 21 22 23 24 25 26 27 28 29 30 31 32 33 34 35 36 37 38 39 40 41 42 43 44 45 46 47 48 49 50 51 52 53 54 55 56 57 58 59 60 61 62 63 64 65 66 67 68 69 70 71 72 73 74 75 76 77 78 79 80 81 82 83 84 85 86 87 88 89 90 91 92 93 94 95 96 97 98 99 100 ... (Sequence 1..100 repeated 100 times)</td><td>99</td><td></td></tr><tr style='background-color: #ffaaaa'><td>Complexity check: N=200000. Should only allow O(N)</td><td>200000 1000\n",
              "1 2 3 4 5 6 7 8 9 10 11 12 13 14 15 16 17 18 19 20 21 22 23 24 25 26 27 28 29 30 31 32 33 34 35 36 37 38 39 40 41 42 43 44 45 46 47 48 49 50 51 52 53 54 55 56 57 58 59 60 61 62 63 64 65 66 67 68 69 70 71 72 73 74 75 76 77 78 79 80 81 82 83 84 85 86 87 88 89 90 91 92 93 94 95 96 97 98 99 100 101 102 103 104 105 106 107 108 109 110 111 112 113 114 115 116 117 118 119 120 121 122 123 124 125 126 127 128 129 130 131 132 133 134 135 136 137 138 139 140 141 142 143 144 145 146 147 148 149 150 151 152 153 154 155 156 157 158 159 160 161 162 163 164 165 166 167 168 169 170 171 172 173 174 175 176 177 178 179 180 181 182 183 184 185 186 187 188 189 190 191 192 193 194 195 196 197 198 199 200 ... (Sequence (i % 10000) + 1 for i in range 200000)</td><td>1999</td><td></td></tr><tr style='background-color: #ffaaaa'><td>Complexity check: N=200000, different pattern</td><td>200000 50000\n",
              "1 1 1 1 2 2 2 2 3 3 3 3 4 4 4 4 5 5 5 5 6 6 6 6 7 7 7 7 8 8 8 8 9 9 9 9 10 10 10 10 11 11 11 11 12 12 12 12 13 13 13 13 14 14 14 14 15 15 15 15 16 16 16 16 17 17 17 17 18 18 18 18 19 19 19 19 20 20 20 20 21 21 21 21 22 22 22 22 23 23 23 23 24 24 24 24 25 25 25 25 26 26 26 26 27 27 27 27 28 28 28 28 29 29 29 29 30 30 30 30 31 31 31 31 32 32 32 32 33 33 33 33 34 34 34 34 35 35 35 35 36 36 36 36 37 37 37 37 38 38 38 38 39 39 39 39 40 40 40 40 41 41 41 41 42 42 42 42 43 43 43 43 44 44 44 44 45 45 45 45 46 46 46 46 47 47 47 47 48 48 48 48 49 49 49 49 50 50 50 50 ... (Sequence 1..50000, each repeated 4 times)</td><td>200000</td><td></td></tr></table>"
            ]
          },
          "metadata": {}
        }
      ]
    },
    {
      "cell_type": "markdown",
      "source": [
        "# Part 2: AI solves the task"
      ],
      "metadata": {
        "id": "0KL16U777QJt"
      }
    },
    {
      "cell_type": "code",
      "source": [
        "#@title Prompt\n",
        "task_solver_prompt = widgets.Textarea(\n",
        "    value=\"\"\"You are a world-class competitive programming sportsman.\n",
        "\n",
        "You will be given the problem statement for an olympiad problem and will need to\n",
        "come up with a Python program that solves this problem. Your program will\n",
        "have to read input data from stdin and write the answer to stdout.\n",
        "\n",
        "Please, proceed step by step:\n",
        "\n",
        "Step 1.\n",
        "Analyze the provided problem, and propose an algorithmic approach for solving it.\n",
        "Assess the algorithmic time and space complexity of your solution.\n",
        "\n",
        "Step 2.\n",
        "Write the Python code for your solution.\n",
        "\n",
        "Step 3.\n",
        "Make sure your code covers all corner cases. If it doesn't, fix it.\n",
        "\n",
        "Step 4.\n",
        "Output the Python code for your solution between the <solution></solution> tags.\n",
        "Make sure your code is well commented and clear.\n",
        "\n",
        "If your code fails to execute, you may have to fix it until it works well\n",
        "in follow-up requests.\n",
        "\"\"\",\n",
        "    description='Prompt:',\n",
        "    disabled=False,\n",
        "    layout=widgets.Layout(height='400px', width='auto'), # Adjust height/width\n",
        "    style={'description_width': 'initial'}\n",
        ")\n",
        "task_solver_prompt"
      ],
      "metadata": {
        "colab": {
          "base_uri": "https://localhost:8080/",
          "height": 421,
          "referenced_widgets": [
            "c39159dc8eb94577a9e66263bacfd3d0",
            "a03d988bc5bf4048a862018b78396e7d",
            "246de4b8ce0e4ab58a770c076ca49fe4"
          ]
        },
        "cellView": "form",
        "id": "1D09CAf22JkE",
        "outputId": "7099d585-d8ea-4263-b873-8ddde3817652"
      },
      "execution_count": null,
      "outputs": [
        {
          "output_type": "display_data",
          "data": {
            "text/plain": [
              "Textarea(value=\"You are a world-class competitive programming sportsman.\\n\\nYou will be given the problem stat…"
            ],
            "application/vnd.jupyter.widget-view+json": {
              "version_major": 2,
              "version_minor": 0,
              "model_id": "c39159dc8eb94577a9e66263bacfd3d0"
            }
          },
          "metadata": {}
        }
      ]
    },
    {
      "cell_type": "code",
      "source": [
        "#@title Solve problem\n",
        "%%time\n",
        "task_solver = genai.GenerativeModel(\n",
        "  model_name=\"gemini-2.5-pro-exp-03-25\",\n",
        "  generation_config= {\n",
        "      \"temperature\": 0.5,\n",
        "      \"top_p\": 1,\n",
        "      \"top_k\": 50,\n",
        "  },\n",
        ")\n",
        "solved_task = task_solver.generate_content(task_solver_prompt.value + \"\"\"\n",
        "\n",
        "PROBLEM STATEMENT\n",
        "\"\"\" + statement)"
      ],
      "metadata": {
        "colab": {
          "base_uri": "https://localhost:8080/",
          "height": 52
        },
        "id": "TtMQx40yrSk4",
        "outputId": "e6c7229d-ad7d-4faa-b877-3657706e03a5"
      },
      "execution_count": null,
      "outputs": [
        {
          "output_type": "stream",
          "name": "stdout",
          "text": [
            "CPU times: user 523 ms, sys: 73.4 ms, total: 596 ms\n",
            "Wall time: 1min 29s\n"
          ]
        }
      ]
    },
    {
      "cell_type": "markdown",
      "source": [
        "### Full thinking process (collapsible)"
      ],
      "metadata": {
        "id": "oIYlOKxl9M32"
      }
    },
    {
      "cell_type": "code",
      "source": [
        "print(solved_task.text)"
      ],
      "metadata": {
        "colab": {
          "base_uri": "https://localhost:8080/"
        },
        "outputId": "2316ab6f-bd7a-4e98-d7a1-aaddac878258",
        "id": "5X5jR9fK9M32"
      },
      "execution_count": null,
      "outputs": [
        {
          "output_type": "stream",
          "name": "stdout",
          "text": [
            "```python\n",
            "import sys\n",
            "from collections import Counter # Can use Counter or standard dict\n",
            "\n",
            "def solve():\n",
            "    \"\"\"\n",
            "    Solves the Simple DNA Segments problem using a sliding window approach.\n",
            "    Reads input N, K, and the sequence a.\n",
            "    Finds the length of the longest contiguous subarray of a\n",
            "    containing at most K distinct elements.\n",
            "    Prints the result to stdout.\n",
            "    \"\"\"\n",
            "    \n",
            "    # Read N and K from the first line of input\n",
            "    line1 = sys.stdin.readline().split()\n",
            "    n = int(line1[0])\n",
            "    k = int(line1[1])\n",
            "\n",
            "    # --- Handle Edge Cases ---\n",
            "\n",
            "    # If the sequence length N is 0, the longest segment is of length 0.\n",
            "    if n == 0:\n",
            "        print(0)\n",
            "        return\n",
            "\n",
            "    # Read the DNA sequence from the second line of input\n",
            "    a = list(map(int, sys.stdin.readline().split()))\n",
            "\n",
            "    # If K is 0, we are looking for segments with at most 0 distinct elements.\n",
            "    # Only an empty segment satisfies this. The maximum length is 0.\n",
            "    # Note: This case is also implicitly handled if N=0 by the check above.\n",
            "    # This check handles N > 0 and K = 0.\n",
            "    if k == 0:\n",
            "        print(0)\n",
            "        return\n",
            "        \n",
            "    # Optimization: If K is greater than or equal to N, any contiguous subarray\n",
            "    # (including the whole array) will have at most N distinct elements.\n",
            "    # Since K >= N, the condition \"at most K distinct elements\" is always satisfied\n",
            "    # for any subarray. The longest possible subarray is the entire array itself.\n",
            "    # Note: This check assumes N > 0 (handled above) and K > 0 (handled above).\n",
            "    if k >= n:\n",
            "        print(n)\n",
            "        return\n",
            "\n",
            "    # --- Sliding Window Algorithm ---\n",
            "    \n",
            "    # Dictionary (or Counter) to store the frequency of elements in the current window [left, right]\n",
            "    # Using a standard dictionary here.\n",
            "    counts = {} \n",
            "    \n",
            "    # Left pointer of the sliding window\n",
            "    left = 0\n",
            "    \n",
            "    # Variable to store the maximum length found so far\n",
            "    max_length = 0\n",
            "\n",
            "    # Iterate through the array with the right pointer, expanding the window\n",
            "    for right in range(n):\n",
            "        # Get the element at the current right pointer\n",
            "        num_right = a[right]\n",
            "        \n",
            "        # Add the element to the window by incrementing its count in the dictionary.\n",
            "        # If the element is new, its count starts at 1.\n",
            "        counts[num_right] = counts.get(num_right, 0) + 1\n",
            "\n",
            "        # Check if the number of distinct elements in the window exceeds K.\n",
            "        # The number of distinct elements is simply the number of keys in the `counts` dictionary.\n",
            "        while len(counts) > k:\n",
            "            # If the window is invalid (too many distinct elements),\n",
            "            # shrink the window from the left.\n",
            "            \n",
            "            # Get the element at the current left pointer\n",
            "            num_left = a[left]\n",
            "            \n",
            "            # Decrement the count of the leftmost element\n",
            "            counts[num_left] -= 1\n",
            "            \n",
            "            # If the count of the leftmost element drops to 0,\n",
            "            # it means this element is no longer present in the window [left+1, right].\n",
            "            # Remove it from the dictionary to accurately reflect the distinct count.\n",
            "            if counts[num_left] == 0:\n",
            "                del counts[num_left]\n",
            "                \n",
            "            # Move the left pointer one step to the right, effectively shrinking the window.\n",
            "            left += 1\n",
            "\n",
            "        # After the while loop, the current window [left, right] is guaranteed\n",
            "        # to have at most K distinct elements.\n",
            "        # Calculate the length of the current valid window.\n",
            "        current_length = right - left + 1\n",
            "        \n",
            "        # Update the maximum length found so far.\n",
            "        max_length = max(max_length, current_length)\n",
            "\n",
            "    # After iterating through all possible right endpoints, max_length holds the answer.\n",
            "    print(max_length)\n",
            "\n",
            "# Call the solve function to execute the logic\n",
            "solve()\n",
            "```\n"
          ]
        }
      ]
    },
    {
      "cell_type": "markdown",
      "source": [
        "## Solution evaluation"
      ],
      "metadata": {
        "id": "YdVqamN-9Q-e"
      }
    },
    {
      "cell_type": "code",
      "source": [
        "#@title Extract data\n",
        "# (it's not really parsable XML)\n",
        "import re\n",
        "from IPython import display\n",
        "\n",
        "if \"<solution>\" in solved_task.text:\n",
        "  solution = textwrap.dedent(re.findall(\"<solution>(.+?)</solution>\", solved_task.text, re.DOTALL)[0]).strip()\n",
        "else:\n",
        "  solution = solved_task.text\n",
        "solution = solution.replace(\"```python\", \"\").replace(\"```\", \"\")"
      ],
      "metadata": {
        "id": "_zNVXzXI9IMQ"
      },
      "execution_count": null,
      "outputs": []
    },
    {
      "cell_type": "code",
      "source": [
        "print(solution)"
      ],
      "metadata": {
        "colab": {
          "base_uri": "https://localhost:8080/"
        },
        "id": "TrYgIEYN812P",
        "outputId": "a8cb029e-48dc-465e-d526-2baf05f05d05"
      },
      "execution_count": null,
      "outputs": [
        {
          "output_type": "stream",
          "name": "stdout",
          "text": [
            "\n",
            "import sys\n",
            "from collections import Counter # Can use Counter or standard dict\n",
            "\n",
            "def solve():\n",
            "    \"\"\"\n",
            "    Solves the Simple DNA Segments problem using a sliding window approach.\n",
            "    Reads input N, K, and the sequence a.\n",
            "    Finds the length of the longest contiguous subarray of a\n",
            "    containing at most K distinct elements.\n",
            "    Prints the result to stdout.\n",
            "    \"\"\"\n",
            "    \n",
            "    # Read N and K from the first line of input\n",
            "    line1 = sys.stdin.readline().split()\n",
            "    n = int(line1[0])\n",
            "    k = int(line1[1])\n",
            "\n",
            "    # --- Handle Edge Cases ---\n",
            "\n",
            "    # If the sequence length N is 0, the longest segment is of length 0.\n",
            "    if n == 0:\n",
            "        print(0)\n",
            "        return\n",
            "\n",
            "    # Read the DNA sequence from the second line of input\n",
            "    a = list(map(int, sys.stdin.readline().split()))\n",
            "\n",
            "    # If K is 0, we are looking for segments with at most 0 distinct elements.\n",
            "    # Only an empty segment satisfies this. The maximum length is 0.\n",
            "    # Note: This case is also implicitly handled if N=0 by the check above.\n",
            "    # This check handles N > 0 and K = 0.\n",
            "    if k == 0:\n",
            "        print(0)\n",
            "        return\n",
            "        \n",
            "    # Optimization: If K is greater than or equal to N, any contiguous subarray\n",
            "    # (including the whole array) will have at most N distinct elements.\n",
            "    # Since K >= N, the condition \"at most K distinct elements\" is always satisfied\n",
            "    # for any subarray. The longest possible subarray is the entire array itself.\n",
            "    # Note: This check assumes N > 0 (handled above) and K > 0 (handled above).\n",
            "    if k >= n:\n",
            "        print(n)\n",
            "        return\n",
            "\n",
            "    # --- Sliding Window Algorithm ---\n",
            "    \n",
            "    # Dictionary (or Counter) to store the frequency of elements in the current window [left, right]\n",
            "    # Using a standard dictionary here.\n",
            "    counts = {} \n",
            "    \n",
            "    # Left pointer of the sliding window\n",
            "    left = 0\n",
            "    \n",
            "    # Variable to store the maximum length found so far\n",
            "    max_length = 0\n",
            "\n",
            "    # Iterate through the array with the right pointer, expanding the window\n",
            "    for right in range(n):\n",
            "        # Get the element at the current right pointer\n",
            "        num_right = a[right]\n",
            "        \n",
            "        # Add the element to the window by incrementing its count in the dictionary.\n",
            "        # If the element is new, its count starts at 1.\n",
            "        counts[num_right] = counts.get(num_right, 0) + 1\n",
            "\n",
            "        # Check if the number of distinct elements in the window exceeds K.\n",
            "        # The number of distinct elements is simply the number of keys in the `counts` dictionary.\n",
            "        while len(counts) > k:\n",
            "            # If the window is invalid (too many distinct elements),\n",
            "            # shrink the window from the left.\n",
            "            \n",
            "            # Get the element at the current left pointer\n",
            "            num_left = a[left]\n",
            "            \n",
            "            # Decrement the count of the leftmost element\n",
            "            counts[num_left] -= 1\n",
            "            \n",
            "            # If the count of the leftmost element drops to 0,\n",
            "            # it means this element is no longer present in the window [left+1, right].\n",
            "            # Remove it from the dictionary to accurately reflect the distinct count.\n",
            "            if counts[num_left] == 0:\n",
            "                del counts[num_left]\n",
            "                \n",
            "            # Move the left pointer one step to the right, effectively shrinking the window.\n",
            "            left += 1\n",
            "\n",
            "        # After the while loop, the current window [left, right] is guaranteed\n",
            "        # to have at most K distinct elements.\n",
            "        # Calculate the length of the current valid window.\n",
            "        current_length = right - left + 1\n",
            "        \n",
            "        # Update the maximum length found so far.\n",
            "        max_length = max(max_length, current_length)\n",
            "\n",
            "    # After iterating through all possible right endpoints, max_length holds the answer.\n",
            "    print(max_length)\n",
            "\n",
            "# Call the solve function to execute the logic\n",
            "solve()\n",
            "\n"
          ]
        }
      ]
    },
    {
      "cell_type": "code",
      "source": [
        "eval_solution(\"Proposed solution\", solution, tests)"
      ],
      "metadata": {
        "colab": {
          "base_uri": "https://localhost:8080/",
          "height": 1000
        },
        "id": "XaGE94GB81EI",
        "outputId": "d566a31b-15a0-42d4-f63c-251b6d81089c"
      },
      "execution_count": null,
      "outputs": [
        {
          "output_type": "display_data",
          "data": {
            "text/plain": [
              "<IPython.core.display.HTML object>"
            ],
            "text/html": [
              "<h2>Testing solution: Proposed solution</h2>"
            ]
          },
          "metadata": {}
        },
        {
          "output_type": "stream",
          "name": "stdout",
          "text": [
            "Traceback (most recent call last):\n",
            "  File \"/tmp/sol.py\", line 99, in <module>\n",
            "    solve()\n",
            "  File \"/tmp/sol.py\", line 60, in solve\n",
            "    num_right = a[right]\n",
            "                ~^^^^^^^\n",
            "IndexError: list index out of range\n",
            "Traceback (most recent call last):\n",
            "  File \"/tmp/sol.py\", line 99, in <module>\n",
            "    solve()\n",
            "  File \"/tmp/sol.py\", line 26, in solve\n",
            "    a = list(map(int, sys.stdin.readline().split()))\n",
            "        ^^^^^^^^^^^^^^^^^^^^^^^^^^^^^^^^^^^^^^^^^^^^\n",
            "ValueError: invalid literal for int() with base 10: '...'\n",
            "Traceback (most recent call last):\n",
            "  File \"/tmp/sol.py\", line 99, in <module>\n",
            "    solve()\n",
            "  File \"/tmp/sol.py\", line 26, in solve\n",
            "    a = list(map(int, sys.stdin.readline().split()))\n",
            "        ^^^^^^^^^^^^^^^^^^^^^^^^^^^^^^^^^^^^^^^^^^^^\n",
            "ValueError: invalid literal for int() with base 10: '...'\n",
            "Traceback (most recent call last):\n",
            "  File \"/tmp/sol.py\", line 99, in <module>\n",
            "    solve()\n",
            "  File \"/tmp/sol.py\", line 26, in solve\n",
            "    a = list(map(int, sys.stdin.readline().split()))\n",
            "        ^^^^^^^^^^^^^^^^^^^^^^^^^^^^^^^^^^^^^^^^^^^^\n",
            "ValueError: invalid literal for int() with base 10: '...'\n"
          ]
        },
        {
          "output_type": "display_data",
          "data": {
            "text/plain": [
              "<IPython.core.display.HTML object>"
            ],
            "text/html": [
              "<table><tr><th>Test</th><th>Input</th><th>Exp. out</th><th>Act. out</th></tr><tr style='background-color: lightgreen'><td>Example 1 from statement</td><td>7 2\n",
              "1 2 1 3 1 2 4</td><td>3</td><td>3</td></tr><tr style='background-color: #ffaaaa'><td>Example 2 from statement</td><td>10 3\n",
              "1 2 3 4 1 2 3 1 2 1</td><td>5</td><td>6</td></tr><tr style='background-color: lightgreen'><td>Example 3 from statement</td><td>5 5\n",
              "-10 20 -10 30 20</td><td>5</td><td>5</td></tr><tr style='background-color: lightgreen'><td>Corner Case: K=0</td><td>5 0\n",
              "1 2 1 3 2</td><td>0</td><td>0</td></tr><tr style='background-color: lightgreen'><td>Corner Case: K=0, N=0</td><td>0 0</td><td>0</td><td>0</td></tr><tr style='background-color: lightgreen'><td>Corner Case: N=0</td><td>0 5</td><td>0</td><td>0</td></tr><tr style='background-color: lightgreen'><td>Corner Case: K is large enough</td><td>5 10\n",
              "1 2 1 3 2</td><td>5</td><td>5</td></tr><tr style='background-color: lightgreen'><td>Corner Case: All elements are the same, K=1</td><td>10 1\n",
              "5 5 5 5 5 5 5 5 5 5</td><td>10</td><td>10</td></tr><tr style='background-color: lightgreen'><td>Corner Case: All elements are the same, K > 1</td><td>10 3\n",
              "5 5 5 5 5 5 5 5 5 5</td><td>10</td><td>10</td></tr><tr style='background-color: lightgreen'><td>Corner Case: All elements are distinct</td><td>10 3\n",
              "1 2 3 4 5 6 7 8 9 10</td><td>3</td><td>3</td></tr><tr style='background-color: lightgreen'><td>Corner Case: All elements distinct, K >= N</td><td>10 10\n",
              "1 2 3 4 5 6 7 8 9 10</td><td>10</td><td>10</td></tr><tr style='background-color: lightgreen'><td>Corner Case: Negative and large numbers</td><td>8 3\n",
              "1000 -200 1000 30 -200 30 1000 5</td><td>7</td><td>7</td></tr><tr style='background-color: lightgreen'><td>Small test case from analysis</td><td>10 2\n",
              "1 2 3 1 2 3 1 2 3 1</td><td>2</td><td>2</td></tr><tr style='background-color: #ffaaaa'><td>Complexity check: N=500. Should fail O(N^3)</td><td>500 10\n",
              "1 2 3 4 5 6 7 8 9 10 11 12 13 14 15 16 17 18 19 20 1 2 3 4 5 6 7 8 9 10 11 12 13 14 15 16 17 18 19 20 1 2 3 4 5 6 7 8 9 10 11 12 13 14 15 16 17 18 19 20 1 2 3 4 5 6 7 8 9 10 11 12 13 14 15 16 17 18 19 20 1 2 3 4 5 6 7 8 9 10 11 12 13 14 15 16 17 18 19 20 1 2 3 4 5 6 7 8 9 10 11 12 13 14 15 16 17 18 19 20 1 2 3 4 5 6 7 8 9 10 11 12 13 14 15 16 17 18 19 20 1 2 3 4 5 6 7 8 9 10 11 12 13 14 15 16 17 18 19 20 1 2 3 4 5 6 7 8 9 10 11 12 13 14 15 16 17 18 19 20 1 2 3 4 5 6 7 8 9 10 11 12 13 14 15 16 17 18 19 20 1 2 3 4 5 6 7 8 9 10 11 12 13 14 15 16 17 18 19 20 1 2 3 4 5 6 7 8 9 10 11 12 13 14 15 16 17 18 19 20 1 2 3 4 5 6 7 8 9 10 11 12 13 14 15 16 17 18 19 20 1 2 3 4 5 6 7 8 9 10 11 12 13 14 15 16 17 18 19 20 1 2 3 4 5 6 7 8 9 10 11 12 13 14 15 16 17 18 19 20 1 2 3 4 5 6 7 8 9 10 11 12 13 14 15 16 17 18 19 20 1 2 3 4 5 6 7 8 9 10 11 12 13 14 15 16 17 18 19 20 1 2 3 4 5 6 7 8 9 10 11 12 13 14 15 16 17 18 19 20 1 2 3 4 5 6 7 8 9 10 11 12 13 14 15 16 17 18 19 20 1 2 3 4 5 6 7 8 9 10 11 12 13 14 15 16 17 18 19 20 1 2 3 4 5 6 7 8 9 10 11 12 13 14 15 16 17 18 19 20 1 2 3 4 5 6 7 8 9 10 11 12 13 14 15 16 17 18 19 20 1 2 3 4 5 6 7 8 9 10 11 12 13 14 15 16 17 18 19 20 1 2 3 4 5 6 7 8 9 10 11 12 13 14 15 16 17 18 19 20</td><td>19</td><td></td></tr><tr style='background-color: #ffaaaa'><td>Complexity check: N=10000. Should fail O(N^2)</td><td>10000 50\n",
              "1 2 3 4 5 6 7 8 9 10 11 12 13 14 15 16 17 18 19 20 21 22 23 24 25 26 27 28 29 30 31 32 33 34 35 36 37 38 39 40 41 42 43 44 45 46 47 48 49 50 51 52 53 54 55 56 57 58 59 60 61 62 63 64 65 66 67 68 69 70 71 72 73 74 75 76 77 78 79 80 81 82 83 84 85 86 87 88 89 90 91 92 93 94 95 96 97 98 99 100 1 2 3 4 5 6 7 8 9 10 11 12 13 14 15 16 17 18 19 20 21 22 23 24 25 26 27 28 29 30 31 32 33 34 35 36 37 38 39 40 41 42 43 44 45 46 47 48 49 50 51 52 53 54 55 56 57 58 59 60 61 62 63 64 65 66 67 68 69 70 71 72 73 74 75 76 77 78 79 80 81 82 83 84 85 86 87 88 89 90 91 92 93 94 95 96 97 98 99 100 1 2 3 4 5 6 7 8 9 10 11 12 13 14 15 16 17 18 19 20 21 22 23 24 25 26 27 28 29 30 31 32 33 34 35 36 37 38 39 40 41 42 43 44 45 46 47 48 49 50 51 52 53 54 55 56 57 58 59 60 61 62 63 64 65 66 67 68 69 70 71 72 73 74 75 76 77 78 79 80 81 82 83 84 85 86 87 88 89 90 91 92 93 94 95 96 97 98 99 100 1 2 3 4 5 6 7 8 9 10 11 12 13 14 15 16 17 18 19 20 21 22 23 24 25 26 27 28 29 30 31 32 33 34 35 36 37 38 39 40 41 42 43 44 45 46 47 48 49 50 51 52 53 54 55 56 57 58 59 60 61 62 63 64 65 66 67 68 69 70 71 72 73 74 75 76 77 78 79 80 81 82 83 84 85 86 87 88 89 90 91 92 93 94 95 96 97 98 99 100 1 2 3 4 5 6 7 8 9 10 11 12 13 14 15 16 17 18 19 20 21 22 23 24 25 26 27 28 29 30 31 32 33 34 35 36 37 38 39 40 41 42 43 44 45 46 47 48 49 50 51 52 53 54 55 56 57 58 59 60 61 62 63 64 65 66 67 68 69 70 71 72 73 74 75 76 77 78 79 80 81 82 83 84 85 86 87 88 89 90 91 92 93 94 95 96 97 98 99 100 ... (Sequence 1..100 repeated 100 times)</td><td>99</td><td></td></tr><tr style='background-color: #ffaaaa'><td>Complexity check: N=200000. Should only allow O(N)</td><td>200000 1000\n",
              "1 2 3 4 5 6 7 8 9 10 11 12 13 14 15 16 17 18 19 20 21 22 23 24 25 26 27 28 29 30 31 32 33 34 35 36 37 38 39 40 41 42 43 44 45 46 47 48 49 50 51 52 53 54 55 56 57 58 59 60 61 62 63 64 65 66 67 68 69 70 71 72 73 74 75 76 77 78 79 80 81 82 83 84 85 86 87 88 89 90 91 92 93 94 95 96 97 98 99 100 101 102 103 104 105 106 107 108 109 110 111 112 113 114 115 116 117 118 119 120 121 122 123 124 125 126 127 128 129 130 131 132 133 134 135 136 137 138 139 140 141 142 143 144 145 146 147 148 149 150 151 152 153 154 155 156 157 158 159 160 161 162 163 164 165 166 167 168 169 170 171 172 173 174 175 176 177 178 179 180 181 182 183 184 185 186 187 188 189 190 191 192 193 194 195 196 197 198 199 200 ... (Sequence (i % 10000) + 1 for i in range 200000)</td><td>1999</td><td></td></tr><tr style='background-color: #ffaaaa'><td>Complexity check: N=200000, different pattern</td><td>200000 50000\n",
              "1 1 1 1 2 2 2 2 3 3 3 3 4 4 4 4 5 5 5 5 6 6 6 6 7 7 7 7 8 8 8 8 9 9 9 9 10 10 10 10 11 11 11 11 12 12 12 12 13 13 13 13 14 14 14 14 15 15 15 15 16 16 16 16 17 17 17 17 18 18 18 18 19 19 19 19 20 20 20 20 21 21 21 21 22 22 22 22 23 23 23 23 24 24 24 24 25 25 25 25 26 26 26 26 27 27 27 27 28 28 28 28 29 29 29 29 30 30 30 30 31 31 31 31 32 32 32 32 33 33 33 33 34 34 34 34 35 35 35 35 36 36 36 36 37 37 37 37 38 38 38 38 39 39 39 39 40 40 40 40 41 41 41 41 42 42 42 42 43 43 43 43 44 44 44 44 45 45 45 45 46 46 46 46 47 47 47 47 48 48 48 48 49 49 49 49 50 50 50 50 ... (Sequence 1..50000, each repeated 4 times)</td><td>200000</td><td></td></tr></table>"
            ]
          },
          "metadata": {}
        }
      ]
    },
    {
      "cell_type": "code",
      "source": [],
      "metadata": {
        "id": "E9g3BPlrRlk_"
      },
      "execution_count": null,
      "outputs": []
    }
  ]
}